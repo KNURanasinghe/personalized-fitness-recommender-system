{
 "cells": [
  {
   "cell_type": "code",
   "execution_count": 1,
   "id": "initial_id",
   "metadata": {
    "collapsed": true,
    "ExecuteTime": {
     "end_time": "2024-01-12T22:00:48.247615Z",
     "start_time": "2024-01-12T22:00:48.208487500Z"
    }
   },
   "outputs": [],
   "source": [
    "import joblib"
   ]
  },
  {
   "cell_type": "code",
   "execution_count": 2,
   "outputs": [],
   "source": [
    "# Load the model and the label encoder\n",
    "model = joblib.load('model.pkl')\n",
    "le = joblib.load('label_encoder.pkl')"
   ],
   "metadata": {
    "collapsed": false,
    "ExecuteTime": {
     "end_time": "2024-01-12T22:00:50.409135500Z",
     "start_time": "2024-01-12T22:00:50.160976300Z"
    }
   },
   "id": "1302ca4c765800cd"
  },
  {
   "cell_type": "code",
   "execution_count": 3,
   "outputs": [],
   "source": [
    "# Define a new observation\n",
    "new_observation = [[25, 70, 23]]  # Age, Actual Weight, BMI"
   ],
   "metadata": {
    "collapsed": false,
    "ExecuteTime": {
     "end_time": "2024-01-12T22:00:51.790942200Z",
     "start_time": "2024-01-12T22:00:51.786233Z"
    }
   },
   "id": "3def6566d275f34b"
  },
  {
   "cell_type": "code",
   "execution_count": null,
   "outputs": [],
   "source": [
    "# Use the model to predict the exercise and intensity\n",
    "exercise_encoded, intensity = model.predict(new_observation)"
   ],
   "metadata": {
    "collapsed": false
   },
   "id": "3592a3c5cb0355d"
  },
  {
   "cell_type": "code",
   "execution_count": null,
   "outputs": [],
   "source": [
    "# Decode 'Exercise' back to its original form\n",
    "exercise = le.inverse_transform([int(exercise_encoded)])[0]"
   ],
   "metadata": {
    "collapsed": false
   },
   "id": "565f19d22882da9"
  },
  {
   "cell_type": "code",
   "execution_count": null,
   "outputs": [],
   "source": [
    "print(f\"Predicted Exercise: {exercise}, Intensity: {intensity}\")"
   ],
   "metadata": {
    "collapsed": false
   },
   "id": "575d973c43cebc4d"
  }
 ],
 "metadata": {
  "kernelspec": {
   "display_name": "Python 3",
   "language": "python",
   "name": "python3"
  },
  "language_info": {
   "codemirror_mode": {
    "name": "ipython",
    "version": 2
   },
   "file_extension": ".py",
   "mimetype": "text/x-python",
   "name": "python",
   "nbconvert_exporter": "python",
   "pygments_lexer": "ipython2",
   "version": "2.7.6"
  }
 },
 "nbformat": 4,
 "nbformat_minor": 5
}
