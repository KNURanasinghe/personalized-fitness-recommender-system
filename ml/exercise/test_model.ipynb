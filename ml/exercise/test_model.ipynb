{
 "cells": [
  {
   "cell_type": "code",
   "execution_count": null,
   "id": "initial_id",
   "metadata": {
    "collapsed": true
   },
   "outputs": [],
   "source": [
    "import joblib"
   ]
  },
  {
   "cell_type": "code",
   "execution_count": null,
   "outputs": [],
   "source": [
    "# Load the model and the label encoder\n",
    "model = joblib.load('model.pkl')\n",
    "le = joblib.load('label_encoder.pkl')"
   ],
   "metadata": {
    "collapsed": false
   },
   "id": "1302ca4c765800cd"
  },
  {
   "cell_type": "code",
   "execution_count": null,
   "outputs": [],
   "source": [
    "# Define a new observation\n",
    "new_observation = [[25, 70, 23]]  # Age, Actual Weight, BMI"
   ],
   "metadata": {
    "collapsed": false
   },
   "id": "3def6566d275f34b"
  }
 ],
 "metadata": {
  "kernelspec": {
   "display_name": "Python 3",
   "language": "python",
   "name": "python3"
  },
  "language_info": {
   "codemirror_mode": {
    "name": "ipython",
    "version": 2
   },
   "file_extension": ".py",
   "mimetype": "text/x-python",
   "name": "python",
   "nbconvert_exporter": "python",
   "pygments_lexer": "ipython2",
   "version": "2.7.6"
  }
 },
 "nbformat": 4,
 "nbformat_minor": 5
}
