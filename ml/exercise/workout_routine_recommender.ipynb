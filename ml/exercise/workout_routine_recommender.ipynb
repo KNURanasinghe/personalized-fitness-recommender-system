{
 "cells": [
  {
   "cell_type": "code",
   "execution_count": null,
   "id": "initial_id",
   "metadata": {
    "collapsed": true
   },
   "outputs": [],
   "source": [
    "import pandas as pd\n",
    "from sklearn.model_selection import train_test_split\n",
    "from sklearn.preprocessing import LabelEncoder, OrdinalEncoder, Normalizer\n",
    "from sklearn.impute import SimpleImputer\n",
    "from sklearn.compose import ColumnTransformer\n",
    "from sklearn.pipeline import Pipeline\n",
    "from sklearn.ensemble import GradientBoostingRegressor\n",
    "from sklearn.multioutput import MultiOutputRegressor\n",
    "import joblib"
   ]
  },
  {
   "cell_type": "code",
   "execution_count": null,
   "outputs": [],
   "source": [
    "# Load the dataset\n",
    "df = pd.read_csv('dataset.csv')"
   ],
   "metadata": {
    "collapsed": false
   },
   "id": "93114aa64176de8d"
  },
  {
   "cell_type": "code",
   "execution_count": null,
   "outputs": [],
   "source": [
    "# Define the categorical and numerical features\n",
    "cat_features = ['Exercise', 'Gender', 'Weather Conditions']\n",
    "num_features = ['Dream Weight', 'Actual Weight', 'Age', 'Duration', 'Heart Rate', 'BMI']"
   ],
   "metadata": {
    "collapsed": false
   },
   "id": "dd15f6eb700119b6"
  },
  {
   "cell_type": "code",
   "execution_count": null,
   "outputs": [],
   "source": [
    "# Define the target variables\n",
    "output_features = ['Exercise', 'Exercise Intensity']"
   ],
   "metadata": {
    "collapsed": false
   },
   "id": "497e2c1c55cd5e87"
  },
  {
   "cell_type": "code",
   "execution_count": null,
   "outputs": [],
   "source": [
    "# Encode 'Exercise' column\n",
    "le = LabelEncoder()\n",
    "df['Exercise'] = le.fit_transform(df['Exercise'])\n"
   ],
   "metadata": {
    "collapsed": false
   },
   "id": "a0ff88a643c9826a"
  }
 ],
 "metadata": {
  "kernelspec": {
   "display_name": "Python 3",
   "language": "python",
   "name": "python3"
  },
  "language_info": {
   "codemirror_mode": {
    "name": "ipython",
    "version": 2
   },
   "file_extension": ".py",
   "mimetype": "text/x-python",
   "name": "python",
   "nbconvert_exporter": "python",
   "pygments_lexer": "ipython2",
   "version": "2.7.6"
  }
 },
 "nbformat": 4,
 "nbformat_minor": 5
}
