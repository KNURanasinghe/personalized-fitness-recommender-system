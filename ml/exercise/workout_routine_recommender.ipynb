{
 "cells": [
  {
   "cell_type": "code",
   "execution_count": 1,
   "id": "initial_id",
   "metadata": {
    "collapsed": true,
    "ExecuteTime": {
     "end_time": "2024-01-12T21:57:27.136113900Z",
     "start_time": "2024-01-12T21:57:26.897640700Z"
    }
   },
   "outputs": [],
   "source": [
    "import pandas as pd\n",
    "from sklearn.model_selection import train_test_split\n",
    "from sklearn.preprocessing import LabelEncoder, OrdinalEncoder, Normalizer\n",
    "from sklearn.impute import SimpleImputer\n",
    "from sklearn.compose import ColumnTransformer\n",
    "from sklearn.pipeline import Pipeline\n",
    "from sklearn.ensemble import GradientBoostingRegressor\n",
    "from sklearn.multioutput import MultiOutputRegressor\n",
    "import joblib"
   ]
  },
  {
   "cell_type": "code",
   "execution_count": 2,
   "outputs": [],
   "source": [
    "# Load the dataset\n",
    "df = pd.read_csv('dataset.csv')"
   ],
   "metadata": {
    "collapsed": false,
    "ExecuteTime": {
     "end_time": "2024-01-12T21:57:29.409224800Z",
     "start_time": "2024-01-12T21:57:29.393432700Z"
    }
   },
   "id": "93114aa64176de8d"
  },
  {
   "cell_type": "code",
   "execution_count": 3,
   "outputs": [],
   "source": [
    "# Define the categorical and numerical features\n",
    "cat_features = ['Exercise', 'Gender', 'Weather Conditions']\n",
    "num_features = ['Dream Weight', 'Actual Weight', 'Age', 'Duration', 'Heart Rate', 'BMI']"
   ],
   "metadata": {
    "collapsed": false,
    "ExecuteTime": {
     "end_time": "2024-01-12T21:57:31.542551500Z",
     "start_time": "2024-01-12T21:57:31.540152800Z"
    }
   },
   "id": "dd15f6eb700119b6"
  },
  {
   "cell_type": "code",
   "execution_count": 4,
   "outputs": [],
   "source": [
    "# Define the target variables\n",
    "output_features = ['Exercise', 'Exercise Intensity']"
   ],
   "metadata": {
    "collapsed": false,
    "ExecuteTime": {
     "end_time": "2024-01-12T21:57:33.207952200Z",
     "start_time": "2024-01-12T21:57:33.197520400Z"
    }
   },
   "id": "497e2c1c55cd5e87"
  },
  {
   "cell_type": "code",
   "execution_count": 5,
   "outputs": [],
   "source": [
    "# Encode 'Exercise' column\n",
    "le = LabelEncoder()\n",
    "df['Exercise'] = le.fit_transform(df['Exercise'])"
   ],
   "metadata": {
    "collapsed": false,
    "ExecuteTime": {
     "end_time": "2024-01-12T21:57:35.519112300Z",
     "start_time": "2024-01-12T21:57:35.509008200Z"
    }
   },
   "id": "a0ff88a643c9826a"
  },
  {
   "cell_type": "code",
   "execution_count": 6,
   "outputs": [],
   "source": [
    "# Split the dataset\n",
    "X_train, X_test, y_train, y_test = train_test_split(\n",
    "    df[cat_features + num_features],\n",
    "    df[output_features],\n",
    "    test_size=0.33,\n",
    "    random_state=42\n",
    ")"
   ],
   "metadata": {
    "collapsed": false,
    "ExecuteTime": {
     "end_time": "2024-01-12T21:57:37.679645900Z",
     "start_time": "2024-01-12T21:57:37.670325600Z"
    }
   },
   "id": "f8f44d4205f4c3d4"
  },
  {
   "cell_type": "code",
   "execution_count": 7,
   "outputs": [],
   "source": [
    "# Define the transformers\n",
    "numeric_transformer = Pipeline(steps=[\n",
    "    ('imputer', SimpleImputer(strategy='mean')),\n",
    "    ('normalizer', Normalizer())\n",
    "])"
   ],
   "metadata": {
    "collapsed": false,
    "ExecuteTime": {
     "end_time": "2024-01-12T21:57:39.951886500Z",
     "start_time": "2024-01-12T21:57:39.938950900Z"
    }
   },
   "id": "1ec9775b398de84f"
  },
  {
   "cell_type": "code",
   "execution_count": 8,
   "outputs": [],
   "source": [
    "categorical_transformer = Pipeline(steps=[\n",
    "    ('imputer', SimpleImputer(strategy='constant')),\n",
    "    ('encoder', OrdinalEncoder())\n",
    "])"
   ],
   "metadata": {
    "collapsed": false,
    "ExecuteTime": {
     "end_time": "2024-01-12T21:57:41.766108600Z",
     "start_time": "2024-01-12T21:57:41.754150300Z"
    }
   },
   "id": "567cfc98767e7fd3"
  },
  {
   "cell_type": "code",
   "execution_count": 9,
   "outputs": [],
   "source": [
    "# Combine the transformers\n",
    "preprocessor = ColumnTransformer(\n",
    "    transformers=[\n",
    "        ('numeric', numeric_transformer, num_features),\n",
    "        ('categorical', categorical_transformer, cat_features)\n",
    "    ]\n",
    ")"
   ],
   "metadata": {
    "collapsed": false,
    "ExecuteTime": {
     "end_time": "2024-01-12T21:57:43.350694Z",
     "start_time": "2024-01-12T21:57:43.341615200Z"
    }
   },
   "id": "944cdc930532e9bf"
  },
  {
   "cell_type": "code",
   "execution_count": 10,
   "outputs": [],
   "source": [
    "# Define the model\n",
    "model = MultiOutputRegressor(GradientBoostingRegressor())"
   ],
   "metadata": {
    "collapsed": false,
    "ExecuteTime": {
     "end_time": "2024-01-12T21:57:44.927330100Z",
     "start_time": "2024-01-12T21:57:44.917262400Z"
    }
   },
   "id": "3e80d811ed3b7b40"
  },
  {
   "cell_type": "code",
   "execution_count": null,
   "outputs": [],
   "source": [
    "# Define the pipeline\n",
    "pipeline = Pipeline(steps=[\n",
    "    ('preprocess', preprocessor),\n",
    "    ('reg', model)\n",
    "])"
   ],
   "metadata": {
    "collapsed": false
   },
   "id": "7b62534e159d751f"
  },
  {
   "cell_type": "code",
   "execution_count": null,
   "outputs": [],
   "source": [
    "# Train the model\n",
    "pipeline.fit(X_train, y_train)"
   ],
   "metadata": {
    "collapsed": false
   },
   "id": "3700e95a54b275f5"
  },
  {
   "cell_type": "code",
   "execution_count": null,
   "outputs": [],
   "source": [
    "# Save the model\n",
    "joblib.dump(pipeline, 'model.pkl')"
   ],
   "metadata": {
    "collapsed": false
   },
   "id": "9f3157e358e43057"
  },
  {
   "cell_type": "code",
   "execution_count": null,
   "outputs": [],
   "source": [
    "# Save the LabelEncoder\n",
    "joblib.dump(le, 'label_encoder.pkl')"
   ],
   "metadata": {
    "collapsed": false
   },
   "id": "6e7bfe91c239e915"
  }
 ],
 "metadata": {
  "kernelspec": {
   "display_name": "Python 3",
   "language": "python",
   "name": "python3"
  },
  "language_info": {
   "codemirror_mode": {
    "name": "ipython",
    "version": 2
   },
   "file_extension": ".py",
   "mimetype": "text/x-python",
   "name": "python",
   "nbconvert_exporter": "python",
   "pygments_lexer": "ipython2",
   "version": "2.7.6"
  }
 },
 "nbformat": 4,
 "nbformat_minor": 5
}
