{
 "cells": [
  {
   "cell_type": "markdown",
   "source": [
    "Table of Contents\n",
    "1  Data preparation\n",
    "2  Exploratory data analysis\n",
    "3  Model training\n",
    "4  Conclusion\n",
    "Analysis of Exercise and Fitness Metrics and Exercise Intensity prediction\n",
    "Engaging in regular physical activity is essential for individuals to maintain optimal health and well-being. The benefits of physical activity extend far beyond just physical fitness. They encompass mental, emotional, and social aspects of our lives, making it an integral part of human existence. Likewise, the topic of health is one of the most critical subjects for humanity to prioritize due to its profound impact on individuals and society as a whole.\n",
    "\n",
    "Gathering individual health data when working out at a gym is crucial for several reasons:\n",
    "\n",
    "Firstly, tracking personal health data allows individuals to monitor their progress and make informed decisions about their fitness goals. By collecting data, individuals can tailor their workout routines, adjust intensity levels, and make necessary modifications to achieve desired results effectively.\n",
    "Secondly, individual health data provides insights into overall health and potential risk factors. By regularly monitoring metrics such as heart rate variability, resting heart rate, and blood pressure, individuals can identify any abnormalities or potential health issues.\n",
    "\n",
    "Collecting health data promotes accountability and motivation. When individuals track their progress and see tangible results, it serves as a powerful motivator to continue their fitness journey.\n",
    "\n",
    "Lastly, the aggregation of health data from gym-goers can contribute to research and the development of evidence-based practices. With consent and proper anonymization, aggregated health data can be used to identify trends, patterns, and correlations that can benefit the larger population.\n",
    "\n",
    "This project is mostly EDA practice - we take a closer look at the data and look for patterns in it. We will also do a little data preparation step since it's a good practice overall and try to predict Exercise Intensity as our ML task, but there won't be any meaningful tuning and I don't expect good results from it. (Don't mind sklearn pipeline, I'm just probing it's possibilities)\n",
    "\n",
    "Description of columns:\n",
    "\n",
    "ID - A unique identifier for each sample in the dataset.\n",
    "Exercise - The type of exercise performed during the session\n",
    "Calories Burn - The estimated number of calories burned during the exercise session.\n",
    "Dream Weight - The desired weight of the individual.\n",
    "Actual Weight - The measured weight of the individual, including natural variation.\n",
    "Age - The age of the individual performing the exercise.\n",
    "Gender - The gender of the individual (Male or Female)\n",
    "Duration - The duration of each exercise session in minutes.\n",
    "Heart Rate - The average heart rate during the exercise session.\n",
    "BMI - The body mass index of the individual, indicating body composition.\n",
    "Weather Conditions\n",
    "Exercise Intensity\n",
    "Data preparation\n",
    "Let's start from loading all necessary libraries and dataframe:"
   ],
   "metadata": {
    "collapsed": false
   },
   "id": "632d61c66d46e190"
  }
 ],
 "metadata": {
  "kernelspec": {
   "display_name": "Python 3",
   "language": "python",
   "name": "python3"
  },
  "language_info": {
   "codemirror_mode": {
    "name": "ipython",
    "version": 2
   },
   "file_extension": ".py",
   "mimetype": "text/x-python",
   "name": "python",
   "nbconvert_exporter": "python",
   "pygments_lexer": "ipython2",
   "version": "2.7.6"
  }
 },
 "nbformat": 4,
 "nbformat_minor": 5
}
