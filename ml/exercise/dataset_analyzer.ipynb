{
 "cells": [
  {
   "cell_type": "markdown",
   "source": [
    "## Table of Contents\n",
    "1. Data preparation\n",
    "2. Exploratory data analysis\n",
    "3. Model training\n",
    "4. Conclusion\n",
    "\n",
    "### Analysis of Exercise and Fitness Metrics and Exercise Intensity prediction\n",
    "Engaging in regular physical activity is essential for individuals to maintain optimal health and well-being. \n",
    "The benefits of physical activity extend far beyond just physical fitness. They encompass mental, emotional, and \n",
    "social aspects of our lives, making it an integral part of human existence. \n",
    "Likewise, the topic of health is one of the most critical subjects for humanity to prioritize due to its profound \n",
    "impact on individuals and society as a whole.\n",
    "\n",
    "### Gathering individual health data when working out at a gym is crucial for several reasons\n",
    "\n",
    "Firstly, tracking personal health data allows individuals to monitor their progress and make informed decisions about their fitness goals. By collecting data, individuals can tailor their workout routines, adjust intensity levels, and make necessary modifications to achieve desired results effectively.\n",
    "Secondly, individual health data provides insights into overall health and potential risk factors. By regularly monitoring metrics such as heart rate variability, resting heart rate, and blood pressure, individuals can identify any abnormalities or potential health issues.\n",
    "\n",
    "Collecting health data promotes accountability and motivation. When individuals track their progress and see tangible results, it serves as a powerful motivator to continue their fitness journey.\n",
    "\n",
    "Lastly, the aggregation of health data from gym-goers can contribute to research and the development of evidence-based practices. With consent and proper anonymization, aggregated health data can be used to identify trends, patterns, and correlations that can benefit the larger population.\n",
    "\n",
    "This project is mostly EDA practice - we take a closer look at the data and look for patterns in it. We will also do a little data preparation step since it's a good practice overall and try to predict Exercise Intensity as our ML task, but there won't be any meaningful tuning and I don't expect good results from it. (Don't mind sklearn pipeline, I'm just probing it's possibilities)\n",
    "\n",
    "## Description of columns:\n",
    "\n",
    "- ID - A unique identifier for each sample in the dataset.\n",
    "- Exercise - The type of exercise performed during the session\n",
    "- Calories Burn - The estimated number of calories burned during the exercise session.\n",
    "- Dream Weight - The desired weight of the individual.\n",
    "- Actual Weight - The measured weight of the individual, including natural variation.\n",
    "- Age - The age of the individual performing the exercise.\n",
    "- Gender - The gender of the individual (Male or Female)\n",
    "- Duration - The duration of each exercise session in minutes.\n",
    "- Heart Rate - The average heart rate during the exercise session.\n",
    "- BMI - The body mass index of the individual, indicating body composition.\n",
    "- Weather Conditions\n",
    "- Exercise Intensity\n",
    "\n",
    "## Data preparation\n",
    "Let's start from loading all necessary libraries and dataframe:"
   ],
   "metadata": {
    "collapsed": false
   },
   "id": "632d61c66d46e190"
  },
  {
   "cell_type": "code",
   "execution_count": null,
   "outputs": [],
   "source": [
    "import pandas as pd\n",
    "import numpy as np\n",
    "import matplotlib.pyplot as plt\n",
    "import seaborn as sns\n",
    "import phik\n",
    "from sklearn.model_selection import train_test_split, cross_val_score, RandomizedSearchCV, GridSearchCV\n",
    "from sklearn.metrics import mean_squared_error\n",
    "from sklearn.preprocessing import OrdinalEncoder, Normalizer\n",
    "from sklearn.impute import SimpleImputer\n",
    "from sklearn.compose import ColumnTransformer\n",
    "from sklearn.pipeline import Pipeline\n",
    "from sklearn.neighbors import KNeighborsRegressor\n",
    "from sklearn.tree import DecisionTreeRegressor\n",
    "from sklearn.ensemble import RandomForestRegressor, GradientBoostingRegressor\n",
    "\n",
    "# RandomState\n",
    "state = np.random.RandomState(12345)"
   ],
   "metadata": {
    "collapsed": false
   },
   "id": "94a3374cb026b57c"
  },
  {
   "cell_type": "code",
   "execution_count": null,
   "outputs": [],
   "source": [
    "df = pd.read_csv('dataset.csv')"
   ],
   "metadata": {
    "collapsed": false
   },
   "id": "731375e4fe7b5641"
  },
  {
   "cell_type": "markdown",
   "source": [
    "Let's peek into our data:"
   ],
   "metadata": {
    "collapsed": false
   },
   "id": "aae92efa3277ce5b"
  },
  {
   "cell_type": "code",
   "execution_count": null,
   "outputs": [],
   "source": [
    "df.head()"
   ],
   "metadata": {
    "collapsed": false
   },
   "id": "63db3705cb96143b"
  },
  {
   "cell_type": "code",
   "execution_count": null,
   "outputs": [],
   "source": [
    "df.info()"
   ],
   "metadata": {
    "collapsed": false
   },
   "id": "773ae1df9215fc88"
  },
  {
   "cell_type": "markdown",
   "source": [
    "Data is well interpretable.\n",
    "\n",
    "Let's remove the ID column, stock pandas indexing is enough for us and proceed further:"
   ],
   "metadata": {
    "collapsed": false
   },
   "id": "12d4eddbcfff51e5"
  },
  {
   "cell_type": "code",
   "execution_count": null,
   "outputs": [],
   "source": [
    "df.drop('ID', axis=1, inplace=True)"
   ],
   "metadata": {
    "collapsed": false
   },
   "id": "b97c696adcb4e507"
  },
  {
   "cell_type": "markdown",
   "source": [
    "And let's change 'Exercise' column to int:"
   ],
   "metadata": {
    "collapsed": false
   },
   "id": "b2074ca07d47ac7"
  },
  {
   "cell_type": "code",
   "execution_count": null,
   "outputs": [],
   "source": [
    "df['Exercise'] = df['Exercise'].map(lambda x: ''.join([i for i in x if i.isdigit()]))"
   ],
   "metadata": {
    "collapsed": false
   },
   "id": "1c35218354a07619"
  },
  {
   "cell_type": "markdown",
   "source": [
    "And give some columns more suitable dtypes:"
   ],
   "metadata": {
    "collapsed": false
   },
   "id": "add262b1ee217e20"
  },
  {
   "cell_type": "code",
   "execution_count": null,
   "outputs": [],
   "source": [
    "ints = [\n",
    "    'Exercise', \n",
    "    'Age', \n",
    "    'Duration', \n",
    "    'Heart Rate', \n",
    "    'Exercise Intensity'\n",
    "]\n",
    "\n",
    "categories = [\n",
    "    'Gender', \n",
    "    'Weather Conditions'\n",
    "]\n",
    "\n",
    "for col in ints:\n",
    "    df[col] = df[col].astype('int16')\n",
    "\n",
    "for col in categories:\n",
    "    df[col] = df[col].astype('category')"
   ],
   "metadata": {
    "collapsed": false
   },
   "id": "c305989f0b9f4308"
  },
  {
   "cell_type": "markdown",
   "source": [
    "As we can see data may greatly vary from one individual to another.\n",
    "\n",
    "P.S. It's always pleasant to work with clean and prepared data. Synthetic origin is too obvious."
   ],
   "metadata": {
    "collapsed": false
   },
   "id": "662fb36766dfec75"
  },
  {
   "cell_type": "markdown",
   "source": [
    "## Exploratory data analysis"
   ],
   "metadata": {
    "collapsed": false
   },
   "id": "a5e9d289d09157b0"
  },
  {
   "cell_type": "markdown",
   "source": [
    "Let's start with checking descriptive statistics:"
   ],
   "metadata": {
    "collapsed": false
   },
   "id": "e5ea2a85c2f740d1"
  }
 ],
 "metadata": {
  "kernelspec": {
   "display_name": "Python 3",
   "language": "python",
   "name": "python3"
  },
  "language_info": {
   "codemirror_mode": {
    "name": "ipython",
    "version": 2
   },
   "file_extension": ".py",
   "mimetype": "text/x-python",
   "name": "python",
   "nbconvert_exporter": "python",
   "pygments_lexer": "ipython2",
   "version": "2.7.6"
  }
 },
 "nbformat": 4,
 "nbformat_minor": 5
}
