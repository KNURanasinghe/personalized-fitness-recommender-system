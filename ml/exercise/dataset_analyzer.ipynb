{
 "cells": [
  {
   "cell_type": "markdown",
   "source": [
    "## Table of Contents\n",
    "1. Data preparation\n",
    "2. Exploratory data analysis\n",
    "3. Model training\n",
    "4. Conclusion\n",
    "\n",
    "### Analysis of Exercise and Fitness Metrics and Exercise Intensity prediction\n",
    "Engaging in regular physical activity is essential for individuals to maintain optimal health and well-being. \n",
    "The benefits of physical activity extend far beyond just physical fitness. They encompass mental, emotional, and \n",
    "social aspects of our lives, making it an integral part of human existence. \n",
    "Likewise, the topic of health is one of the most critical subjects for humanity to prioritize due to its profound \n",
    "impact on individuals and society as a whole.\n",
    "\n",
    "### Gathering individual health data when working out at a gym is crucial for several reasons\n",
    "\n",
    "Firstly, tracking personal health data allows individuals to monitor their progress and make informed decisions about their fitness goals. By collecting data, individuals can tailor their workout routines, adjust intensity levels, and make necessary modifications to achieve desired results effectively.\n",
    "Secondly, individual health data provides insights into overall health and potential risk factors. By regularly monitoring metrics such as heart rate variability, resting heart rate, and blood pressure, individuals can identify any abnormalities or potential health issues.\n",
    "\n",
    "Collecting health data promotes accountability and motivation. When individuals track their progress and see tangible results, it serves as a powerful motivator to continue their fitness journey.\n",
    "\n",
    "Lastly, the aggregation of health data from gym-goers can contribute to research and the development of evidence-based practices. With consent and proper anonymization, aggregated health data can be used to identify trends, patterns, and correlations that can benefit the larger population.\n",
    "\n",
    "This project is mostly EDA practice - we take a closer look at the data and look for patterns in it. We will also do a little data preparation step since it's a good practice overall and try to predict Exercise Intensity as our ML task, but there won't be any meaningful tuning and I don't expect good results from it. (Don't mind sklearn pipeline, I'm just probing it's possibilities)\n",
    "\n",
    "## Description of columns:\n",
    "\n",
    "- ID - A unique identifier for each sample in the dataset.\n",
    "- Exercise - The type of exercise performed during the session\n",
    "- Calories Burn - The estimated number of calories burned during the exercise session.\n",
    "- Dream Weight - The desired weight of the individual.\n",
    "- Actual Weight - The measured weight of the individual, including natural variation.\n",
    "- Age - The age of the individual performing the exercise.\n",
    "- Gender - The gender of the individual (Male or Female)\n",
    "- Duration - The duration of each exercise session in minutes.\n",
    "- Heart Rate - The average heart rate during the exercise session.\n",
    "- BMI - The body mass index of the individual, indicating body composition.\n",
    "- Weather Conditions\n",
    "- Exercise Intensity\n",
    "\n",
    "## Data preparation\n",
    "Let's start from loading all necessary libraries and dataframe:"
   ],
   "metadata": {
    "collapsed": false
   },
   "id": "632d61c66d46e190"
  },
  {
   "cell_type": "code",
   "execution_count": null,
   "outputs": [],
   "source": [
    "import pandas as pd\n",
    "import numpy as np\n",
    "import matplotlib.pyplot as plt\n",
    "import seaborn as sns\n",
    "import phik\n",
    "from sklearn.model_selection import train_test_split, cross_val_score, RandomizedSearchCV, GridSearchCV\n",
    "from sklearn.metrics import mean_squared_error\n",
    "from sklearn.preprocessing import OrdinalEncoder, Normalizer\n",
    "from sklearn.impute import SimpleImputer\n",
    "from sklearn.compose import ColumnTransformer\n",
    "from sklearn.pipeline import Pipeline\n",
    "from sklearn.neighbors import KNeighborsRegressor\n",
    "from sklearn.tree import DecisionTreeRegressor\n",
    "from sklearn.ensemble import RandomForestRegressor, GradientBoostingRegressor\n",
    "\n",
    "# RandomState\n",
    "state = np.random.RandomState(12345)"
   ],
   "metadata": {
    "collapsed": false
   },
   "id": "94a3374cb026b57c"
  },
  {
   "cell_type": "code",
   "execution_count": null,
   "outputs": [],
   "source": [
    "df = pd.read_csv('dataset.csv')"
   ],
   "metadata": {
    "collapsed": false
   },
   "id": "731375e4fe7b5641"
  },
  {
   "cell_type": "markdown",
   "source": [
    "Let's peek into our data:"
   ],
   "metadata": {
    "collapsed": false
   },
   "id": "aae92efa3277ce5b"
  },
  {
   "cell_type": "code",
   "execution_count": null,
   "outputs": [],
   "source": [
    "df.head()"
   ],
   "metadata": {
    "collapsed": false
   },
   "id": "63db3705cb96143b"
  },
  {
   "cell_type": "code",
   "execution_count": null,
   "outputs": [],
   "source": [
    "df.info()"
   ],
   "metadata": {
    "collapsed": false
   },
   "id": "773ae1df9215fc88"
  },
  {
   "cell_type": "markdown",
   "source": [
    "Data is well interpretable.\n",
    "\n",
    "Let's remove the ID column, stock pandas indexing is enough for us and proceed further:"
   ],
   "metadata": {
    "collapsed": false
   },
   "id": "12d4eddbcfff51e5"
  },
  {
   "cell_type": "code",
   "execution_count": null,
   "outputs": [],
   "source": [
    "df.drop('ID', axis=1, inplace=True)"
   ],
   "metadata": {
    "collapsed": false
   },
   "id": "b97c696adcb4e507"
  },
  {
   "cell_type": "markdown",
   "source": [
    "And let's change 'Exercise' column to int:"
   ],
   "metadata": {
    "collapsed": false
   },
   "id": "b2074ca07d47ac7"
  },
  {
   "cell_type": "code",
   "execution_count": null,
   "outputs": [],
   "source": [
    "df['Exercise'] = df['Exercise'].map(lambda x: ''.join([i for i in x if i.isdigit()]))"
   ],
   "metadata": {
    "collapsed": false
   },
   "id": "1c35218354a07619"
  },
  {
   "cell_type": "markdown",
   "source": [
    "And give some columns more suitable dtypes:"
   ],
   "metadata": {
    "collapsed": false
   },
   "id": "add262b1ee217e20"
  },
  {
   "cell_type": "code",
   "execution_count": null,
   "outputs": [],
   "source": [
    "ints = [\n",
    "    'Exercise', \n",
    "    'Age', \n",
    "    'Duration', \n",
    "    'Heart Rate', \n",
    "    'Exercise Intensity'\n",
    "]\n",
    "\n",
    "categories = [\n",
    "    'Gender', \n",
    "    'Weather Conditions'\n",
    "]\n",
    "\n",
    "for col in ints:\n",
    "    df[col] = df[col].astype('int16')\n",
    "\n",
    "for col in categories:\n",
    "    df[col] = df[col].astype('category')"
   ],
   "metadata": {
    "collapsed": false
   },
   "id": "c305989f0b9f4308"
  },
  {
   "cell_type": "markdown",
   "source": [
    "As we can see data may greatly vary from one individual to another.\n",
    "\n",
    "P.S. It's always pleasant to work with clean and prepared data. Synthetic origin is too obvious."
   ],
   "metadata": {
    "collapsed": false
   },
   "id": "662fb36766dfec75"
  },
  {
   "cell_type": "markdown",
   "source": [
    "## Exploratory data analysis"
   ],
   "metadata": {
    "collapsed": false
   },
   "id": "a5e9d289d09157b0"
  },
  {
   "cell_type": "markdown",
   "source": [
    "Let's start with checking descriptive statistics:"
   ],
   "metadata": {
    "collapsed": false
   },
   "id": "e5ea2a85c2f740d1"
  },
  {
   "cell_type": "code",
   "execution_count": null,
   "outputs": [],
   "source": [
    "df.describe()"
   ],
   "metadata": {
    "collapsed": false
   },
   "id": "d3d8e96b99efa557"
  },
  {
   "cell_type": "markdown",
   "source": [
    "`Calories Burn`, `Duration` and `Age` differ greatly among respondents.\n",
    "\n",
    "Now let's check our data distributions:"
   ],
   "metadata": {
    "collapsed": false
   },
   "id": "7e658d9ef823c2be"
  },
  {
   "cell_type": "code",
   "execution_count": null,
   "outputs": [],
   "source": [
    "_, axs = plt.subplots(3, 2, figsize=[10,15])\n",
    "cols = [\n",
    "    (axs[0,0], 'Calories Burn'),\n",
    "    (axs[0,1], 'Dream Weight'),\n",
    "    (axs[1,0], 'Actual Weight'),\n",
    "    (axs[1,1], 'Age'),\n",
    "    (axs[2,0], 'Duration'),\n",
    "    (axs[2,1], 'Heart Rate'),\n",
    "]\n",
    "for i, (ax, col) in enumerate(cols):\n",
    "    ax.set(title=col)\n",
    "    ax.hist(df[col], bins=40)\n",
    "plt.figure(figsize=[10,4])\n",
    "plt.title('BMI')\n",
    "plt.hist(df['BMI'], bins=40)\n",
    "\n",
    "_, axs = plt.subplots(2, 2, figsize=[11,11])\n",
    "cols = [\n",
    "    (axs[0,0], 'Exercise'),\n",
    "    (axs[0,1], 'Exercise Intensity'),\n",
    "    (axs[1,0], 'Gender'),\n",
    "    (axs[1,1], 'Weather Conditions')\n",
    "]\n",
    "\n",
    "cmap = plt.get_cmap('Blues')\n",
    "\n",
    "for i, (ax, col) in enumerate(cols):\n",
    "    ax.set(title=col)\n",
    "    values = df[col].value_counts().sort_index()\n",
    "    ind = values.index\n",
    "    colors = list(cmap(np.linspace(0.1, 0.8, len(values))))\n",
    "    ax.pie(\n",
    "        values, \n",
    "        labels=ind, \n",
    "        autopct='%.1f%%', \n",
    "        colors=colors\n",
    "    )"
   ],
   "metadata": {
    "collapsed": false
   },
   "id": "c14715ddb57f03e3"
  },
  {
   "cell_type": "markdown",
   "source": [
    "The difference between the most common `Exercise` group (fifth one) and the rarest (second) is only 50.\n",
    "\n",
    "`Actual Weight` is kinda normally distributed, that's nice.\n",
    "\n",
    "If the data is random sample, then seeing so many people over 50 exercising is a good sign. Engaging in activities that promote physical health and maintaining a healthy lifestyle can indeed reduce the risk of developing certain age-related diseases.\n",
    "\n",
    "Strange to see almost the same number of `Duration == 20` and `Duration == 60`. It's hard to imagine that the same number of people come to the gym for 20 and 60 minute workouts, given that 60 minute workouts are considered optimal and are more popular. (Author really should consider changing this distribution to exponential)\n",
    "\n",
    "Men and women were almost equally divided among the respondents. And also people don't skip their workouts or rainy days, expected less entries on rainy days.\n",
    "\n",
    "P.S. Let's try to guess from which region the statistics could've been collected (if weren't synthetic). Personally thinking it could be UK/Ireland/Pacific Northwest, USA (including Seattle)/Belgium/Netherlands/Germany/Vancouver, Canada/Scotland\n",
    "\n",
    "Let's continue with linear correlation matrix:"
   ],
   "metadata": {
    "collapsed": false
   },
   "id": "1d96c5ba009e0233"
  },
  {
   "cell_type": "code",
   "execution_count": null,
   "outputs": [],
   "source": [
    "cols = [\n",
    "    'Calories Burn', \n",
    "    'Dream Weight',\n",
    "    'Actual Weight',\n",
    "    'Age',\n",
    "    'Duration',\n",
    "    'Heart Rate',\n",
    "    'BMI',\n",
    "    'Exercise Intensity'\n",
    "]\n",
    "\n",
    "sns.heatmap(df.phik_matrix(interval_cols=cols), cmap ='seismic')"
   ],
   "metadata": {
    "collapsed": false
   },
   "id": "94d3dd0749839fef"
  },
  {
   "cell_type": "markdown",
   "source": [
    "As we can see, columns don't correlate with each other, except for `Actual Weight`/`Dream Weight` pair. It could be due to people relying on their own weight, when envisioning their weight preferences.\n",
    "\n",
    "Now it's time for a little feature engineering. Let's add a Weight Difference column with `Actual Weight` - `Dream Weight` module values and a `Gain` column describing whatever respondent wants to gain some weight or lose it:"
   ],
   "metadata": {
    "collapsed": false
   },
   "id": "3b1c851998854081"
  },
  {
   "cell_type": "code",
   "execution_count": null,
   "outputs": [],
   "source": [
    "def gain(x):\n",
    "    if x < 0:\n",
    "        return 'Gain'\n",
    "    else: return 'Lose'\n",
    "\n",
    "df['Weight Difference'] = df['Actual Weight'] - df['Dream Weight']\n",
    "df['Gain'] = df['Weight Difference'].apply(gain).astype('category')\n",
    "df['Weight Difference'] = abs(df['Weight Difference'])"
   ],
   "metadata": {
    "collapsed": false
   },
   "id": "6e345d82b2ee7848"
  },
  {
   "cell_type": "markdown",
   "source": [
    "Now let's check new columns distributions:"
   ],
   "metadata": {
    "collapsed": false
   },
   "id": "7468ae4e67b1aade"
  },
  {
   "cell_type": "code",
   "execution_count": null,
   "outputs": [],
   "source": [
    "_, axs = plt.subplots(1, 2, figsize=[11,4])\n",
    "cols = [\n",
    "    (axs[0], 'Weight Difference'),\n",
    "    (axs[1], 'Gain')\n",
    "]\n",
    "for i, (ax, col) in enumerate(cols):\n",
    "    ax.set(title=col)\n",
    "    ax.hist(df[col], bins=40)"
   ],
   "metadata": {
    "collapsed": false
   },
   "id": "8c6c77b72d7bc7eb"
  },
  {
   "cell_type": "markdown",
   "source": [
    "`Weight Difference` is kinda chaotic and `Gain` is almost equal, with little preference for weight loss.\n",
    "\n",
    "Let's see if there are weight gain/loss preferences among men and women:"
   ],
   "metadata": {
    "collapsed": false
   },
   "id": "3dd954e744181e7"
  },
  {
   "cell_type": "code",
   "execution_count": null,
   "outputs": [],
   "source": [
    "colors = cmap(np.linspace(0.1, 0.8, 2))\n",
    "df.pivot_table(\n",
    "    columns='Gain',\n",
    "    index='Gender',\n",
    "    values='Exercise',\n",
    "    aggfunc='count'\n",
    ").plot(\n",
    "    kind='pie', \n",
    "    autopct='%.1f%%',\n",
    "    colors=colors, \n",
    "    subplots=True, \n",
    "    figsize=[11,11], \n",
    "    legend=False\n",
    ")"
   ],
   "metadata": {
    "collapsed": false
   },
   "id": "28a2055729f2cf4a"
  },
  {
   "cell_type": "markdown",
   "source": [
    "Almost equal.\n",
    "\n",
    "Continue with median actual/dream weights:"
   ],
   "metadata": {
    "collapsed": false
   },
   "id": "8c9aa5f2c355dae6"
  }
 ],
 "metadata": {
  "kernelspec": {
   "display_name": "Python 3",
   "language": "python",
   "name": "python3"
  },
  "language_info": {
   "codemirror_mode": {
    "name": "ipython",
    "version": 2
   },
   "file_extension": ".py",
   "mimetype": "text/x-python",
   "name": "python",
   "nbconvert_exporter": "python",
   "pygments_lexer": "ipython2",
   "version": "2.7.6"
  }
 },
 "nbformat": 4,
 "nbformat_minor": 5
}
