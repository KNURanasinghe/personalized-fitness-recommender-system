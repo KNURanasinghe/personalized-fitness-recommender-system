{
 "cells": [
  {
   "cell_type": "markdown",
   "source": [
    "## Table of Contents\n",
    "1. Data preparation\n",
    "2. Exploratory data analysis\n",
    "3. Model training\n",
    "4. Conclusion\n",
    "\n",
    "### Analysis of Exercise and Fitness Metrics and Exercise Intensity prediction\n",
    "Engaging in regular physical activity is essential for individuals to maintain optimal health and well-being. \n",
    "The benefits of physical activity extend far beyond just physical fitness. They encompass mental, emotional, and \n",
    "social aspects of our lives, making it an integral part of human existence. \n",
    "Likewise, the topic of health is one of the most critical subjects for humanity to prioritize due to its profound \n",
    "impact on individuals and society as a whole.\n",
    "\n",
    "### Gathering individual health data when working out at a gym is crucial for several reasons\n",
    "\n",
    "Firstly, tracking personal health data allows individuals to monitor their progress and make informed decisions about their fitness goals. By collecting data, individuals can tailor their workout routines, adjust intensity levels, and make necessary modifications to achieve desired results effectively.\n",
    "Secondly, individual health data provides insights into overall health and potential risk factors. By regularly monitoring metrics such as heart rate variability, resting heart rate, and blood pressure, individuals can identify any abnormalities or potential health issues.\n",
    "\n",
    "Collecting health data promotes accountability and motivation. When individuals track their progress and see tangible results, it serves as a powerful motivator to continue their fitness journey.\n",
    "\n",
    "Lastly, the aggregation of health data from gym-goers can contribute to research and the development of evidence-based practices. With consent and proper anonymization, aggregated health data can be used to identify trends, patterns, and correlations that can benefit the larger population.\n",
    "\n",
    "This project is mostly EDA practice - we take a closer look at the data and look for patterns in it. We will also do a little data preparation step since it's a good practice overall and try to predict Exercise Intensity as our ML task, but there won't be any meaningful tuning and I don't expect good results from it. (Don't mind sklearn pipeline, I'm just probing it's possibilities)\n",
    "\n",
    "## Description of columns:\n",
    "\n",
    "- ID - A unique identifier for each sample in the dataset.\n",
    "- Exercise - The type of exercise performed during the session\n",
    "- Calories Burn - The estimated number of calories burned during the exercise session.\n",
    "- Dream Weight - The desired weight of the individual.\n",
    "- Actual Weight - The measured weight of the individual, including natural variation.\n",
    "- Age - The age of the individual performing the exercise.\n",
    "- Gender - The gender of the individual (Male or Female)\n",
    "- Duration - The duration of each exercise session in minutes.\n",
    "- Heart Rate - The average heart rate during the exercise session.\n",
    "- BMI - The body mass index of the individual, indicating body composition.\n",
    "- Weather Conditions\n",
    "- Exercise Intensity\n",
    "\n",
    "## Data preparation\n",
    "Let's start from loading all necessary libraries and dataframe:"
   ],
   "metadata": {
    "collapsed": false
   },
   "id": "632d61c66d46e190"
  },
  {
   "cell_type": "code",
   "execution_count": 1,
   "outputs": [],
   "source": [
    "import pandas as pd\n",
    "import numpy as np\n",
    "import matplotlib.pyplot as plt\n",
    "import seaborn as sns\n",
    "import phik\n",
    "from sklearn.model_selection import train_test_split, cross_val_score, RandomizedSearchCV, GridSearchCV\n",
    "from sklearn.metrics import mean_squared_error\n",
    "from sklearn.preprocessing import OrdinalEncoder, Normalizer\n",
    "from sklearn.impute import SimpleImputer\n",
    "from sklearn.compose import ColumnTransformer\n",
    "from sklearn.pipeline import Pipeline\n",
    "from sklearn.neighbors import KNeighborsRegressor\n",
    "from sklearn.tree import DecisionTreeRegressor\n",
    "from sklearn.ensemble import RandomForestRegressor, GradientBoostingRegressor\n",
    "\n",
    "# RandomState\n",
    "state = np.random.RandomState(12345)"
   ],
   "metadata": {
    "collapsed": false,
    "ExecuteTime": {
     "end_time": "2024-01-12T21:29:52.374050700Z",
     "start_time": "2024-01-12T21:29:51.754310400Z"
    }
   },
   "id": "94a3374cb026b57c"
  },
  {
   "cell_type": "code",
   "execution_count": 2,
   "outputs": [],
   "source": [
    "df = pd.read_csv('dataset.csv')"
   ],
   "metadata": {
    "collapsed": false,
    "ExecuteTime": {
     "end_time": "2024-01-12T21:29:58.732926Z",
     "start_time": "2024-01-12T21:29:58.714956800Z"
    }
   },
   "id": "731375e4fe7b5641"
  },
  {
   "cell_type": "markdown",
   "source": [
    "Let's peek into our data:"
   ],
   "metadata": {
    "collapsed": false
   },
   "id": "aae92efa3277ce5b"
  },
  {
   "cell_type": "code",
   "execution_count": 3,
   "outputs": [
    {
     "data": {
      "text/plain": "   ID     Exercise  Calories Burn  Dream Weight  Actual Weight  Age  Gender  \\\n0   1   Exercise 2     286.959851     91.892531      96.301115   45    Male   \n1   2   Exercise 7     343.453036     64.165097      61.104668   25    Male   \n2   3   Exercise 4     261.223465     70.846224      71.766724   20    Male   \n3   4   Exercise 5     127.183858     79.477008      82.984456   33    Male   \n4   5  Exercise 10     416.318374     89.960226      85.643174   29  Female   \n\n   Duration  Heart Rate        BMI Weather Conditions  Exercise Intensity  \n0        37         170  29.426275              Rainy                   5  \n1        43         142  21.286346              Rainy                   5  \n2        20         148  27.899592             Cloudy                   4  \n3        39         170  33.729552              Sunny                  10  \n4        34         118  23.286113             Cloudy                   3  ",
      "text/html": "<div>\n<style scoped>\n    .dataframe tbody tr th:only-of-type {\n        vertical-align: middle;\n    }\n\n    .dataframe tbody tr th {\n        vertical-align: top;\n    }\n\n    .dataframe thead th {\n        text-align: right;\n    }\n</style>\n<table border=\"1\" class=\"dataframe\">\n  <thead>\n    <tr style=\"text-align: right;\">\n      <th></th>\n      <th>ID</th>\n      <th>Exercise</th>\n      <th>Calories Burn</th>\n      <th>Dream Weight</th>\n      <th>Actual Weight</th>\n      <th>Age</th>\n      <th>Gender</th>\n      <th>Duration</th>\n      <th>Heart Rate</th>\n      <th>BMI</th>\n      <th>Weather Conditions</th>\n      <th>Exercise Intensity</th>\n    </tr>\n  </thead>\n  <tbody>\n    <tr>\n      <th>0</th>\n      <td>1</td>\n      <td>Exercise 2</td>\n      <td>286.959851</td>\n      <td>91.892531</td>\n      <td>96.301115</td>\n      <td>45</td>\n      <td>Male</td>\n      <td>37</td>\n      <td>170</td>\n      <td>29.426275</td>\n      <td>Rainy</td>\n      <td>5</td>\n    </tr>\n    <tr>\n      <th>1</th>\n      <td>2</td>\n      <td>Exercise 7</td>\n      <td>343.453036</td>\n      <td>64.165097</td>\n      <td>61.104668</td>\n      <td>25</td>\n      <td>Male</td>\n      <td>43</td>\n      <td>142</td>\n      <td>21.286346</td>\n      <td>Rainy</td>\n      <td>5</td>\n    </tr>\n    <tr>\n      <th>2</th>\n      <td>3</td>\n      <td>Exercise 4</td>\n      <td>261.223465</td>\n      <td>70.846224</td>\n      <td>71.766724</td>\n      <td>20</td>\n      <td>Male</td>\n      <td>20</td>\n      <td>148</td>\n      <td>27.899592</td>\n      <td>Cloudy</td>\n      <td>4</td>\n    </tr>\n    <tr>\n      <th>3</th>\n      <td>4</td>\n      <td>Exercise 5</td>\n      <td>127.183858</td>\n      <td>79.477008</td>\n      <td>82.984456</td>\n      <td>33</td>\n      <td>Male</td>\n      <td>39</td>\n      <td>170</td>\n      <td>33.729552</td>\n      <td>Sunny</td>\n      <td>10</td>\n    </tr>\n    <tr>\n      <th>4</th>\n      <td>5</td>\n      <td>Exercise 10</td>\n      <td>416.318374</td>\n      <td>89.960226</td>\n      <td>85.643174</td>\n      <td>29</td>\n      <td>Female</td>\n      <td>34</td>\n      <td>118</td>\n      <td>23.286113</td>\n      <td>Cloudy</td>\n      <td>3</td>\n    </tr>\n  </tbody>\n</table>\n</div>"
     },
     "execution_count": 3,
     "metadata": {},
     "output_type": "execute_result"
    }
   ],
   "source": [
    "df.head()"
   ],
   "metadata": {
    "collapsed": false,
    "ExecuteTime": {
     "end_time": "2024-01-12T21:30:03.486821500Z",
     "start_time": "2024-01-12T21:30:03.397159200Z"
    }
   },
   "id": "63db3705cb96143b"
  },
  {
   "cell_type": "code",
   "execution_count": 4,
   "outputs": [
    {
     "name": "stdout",
     "output_type": "stream",
     "text": [
      "<class 'pandas.core.frame.DataFrame'>\n",
      "RangeIndex: 3864 entries, 0 to 3863\n",
      "Data columns (total 12 columns):\n",
      " #   Column              Non-Null Count  Dtype  \n",
      "---  ------              --------------  -----  \n",
      " 0   ID                  3864 non-null   int64  \n",
      " 1   Exercise            3864 non-null   object \n",
      " 2   Calories Burn       3864 non-null   float64\n",
      " 3   Dream Weight        3864 non-null   float64\n",
      " 4   Actual Weight       3864 non-null   float64\n",
      " 5   Age                 3864 non-null   int64  \n",
      " 6   Gender              3864 non-null   object \n",
      " 7   Duration            3864 non-null   int64  \n",
      " 8   Heart Rate          3864 non-null   int64  \n",
      " 9   BMI                 3864 non-null   float64\n",
      " 10  Weather Conditions  3864 non-null   object \n",
      " 11  Exercise Intensity  3864 non-null   int64  \n",
      "dtypes: float64(4), int64(5), object(3)\n",
      "memory usage: 362.4+ KB\n"
     ]
    }
   ],
   "source": [
    "df.info()"
   ],
   "metadata": {
    "collapsed": false,
    "ExecuteTime": {
     "end_time": "2024-01-12T21:30:06.503755Z",
     "start_time": "2024-01-12T21:30:06.469988600Z"
    }
   },
   "id": "773ae1df9215fc88"
  },
  {
   "cell_type": "markdown",
   "source": [
    "Data is well interpretable.\n",
    "\n",
    "Let's remove the ID column, stock pandas indexing is enough for us and proceed further:"
   ],
   "metadata": {
    "collapsed": false
   },
   "id": "12d4eddbcfff51e5"
  },
  {
   "cell_type": "code",
   "execution_count": 5,
   "outputs": [],
   "source": [
    "df.drop('ID', axis=1, inplace=True)"
   ],
   "metadata": {
    "collapsed": false,
    "ExecuteTime": {
     "end_time": "2024-01-12T21:30:10.561700700Z",
     "start_time": "2024-01-12T21:30:10.556503900Z"
    }
   },
   "id": "b97c696adcb4e507"
  },
  {
   "cell_type": "markdown",
   "source": [
    "And let's change 'Exercise' column to int:"
   ],
   "metadata": {
    "collapsed": false
   },
   "id": "b2074ca07d47ac7"
  },
  {
   "cell_type": "code",
   "execution_count": 6,
   "outputs": [],
   "source": [
    "df['Exercise'] = df['Exercise'].map(lambda x: ''.join([i for i in x if i.isdigit()]))"
   ],
   "metadata": {
    "collapsed": false,
    "ExecuteTime": {
     "end_time": "2024-01-12T21:30:15.775694200Z",
     "start_time": "2024-01-12T21:30:15.765843100Z"
    }
   },
   "id": "1c35218354a07619"
  },
  {
   "cell_type": "markdown",
   "source": [
    "And give some columns more suitable dtypes:"
   ],
   "metadata": {
    "collapsed": false
   },
   "id": "add262b1ee217e20"
  },
  {
   "cell_type": "code",
   "execution_count": 7,
   "outputs": [],
   "source": [
    "ints = [\n",
    "    'Exercise', \n",
    "    'Age', \n",
    "    'Duration', \n",
    "    'Heart Rate', \n",
    "    'Exercise Intensity'\n",
    "]\n",
    "\n",
    "categories = [\n",
    "    'Gender', \n",
    "    'Weather Conditions'\n",
    "]\n",
    "\n",
    "for col in ints:\n",
    "    df[col] = df[col].astype('int16')\n",
    "\n",
    "for col in categories:\n",
    "    df[col] = df[col].astype('category')"
   ],
   "metadata": {
    "collapsed": false,
    "ExecuteTime": {
     "end_time": "2024-01-12T21:30:18.863183800Z",
     "start_time": "2024-01-12T21:30:18.855316100Z"
    }
   },
   "id": "c305989f0b9f4308"
  },
  {
   "cell_type": "markdown",
   "source": [
    "As we can see data may greatly vary from one individual to another.\n",
    "\n",
    "P.S. It's always pleasant to work with clean and prepared data. Synthetic origin is too obvious."
   ],
   "metadata": {
    "collapsed": false
   },
   "id": "662fb36766dfec75"
  },
  {
   "cell_type": "markdown",
   "source": [
    "## Exploratory data analysis"
   ],
   "metadata": {
    "collapsed": false
   },
   "id": "a5e9d289d09157b0"
  },
  {
   "cell_type": "markdown",
   "source": [
    "Let's start with checking descriptive statistics:"
   ],
   "metadata": {
    "collapsed": false
   },
   "id": "e5ea2a85c2f740d1"
  },
  {
   "cell_type": "code",
   "execution_count": 8,
   "outputs": [
    {
     "data": {
      "text/plain": "          Exercise  Calories Burn  Dream Weight  Actual Weight          Age  \\\ncount  3864.000000    3864.000000   3864.000000    3864.000000  3864.000000   \nmean      5.549172     301.861806     75.139263      75.188440    39.621118   \nstd       2.880422     115.828604     14.545824      14.845511    12.521721   \nmin       1.000000     100.009403     50.001984      45.783747    18.000000   \n25%       3.000000     202.168837     62.373585      62.476906    29.000000   \n50%       6.000000     299.742508     75.522136      75.544407    40.000000   \n75%       8.000000     404.143688     87.707989      88.105767    51.000000   \nmax      10.000000     499.859262     99.985355     104.309600    60.000000   \n\n          Duration   Heart Rate          BMI  Exercise Intensity  \ncount  3864.000000  3864.000000  3864.000000         3864.000000  \nmean     40.190994   139.777950    26.801977            5.457298  \nstd      11.765957    23.447528     4.746745            2.850896  \nmin      20.000000   100.000000    18.500014            1.000000  \n25%      30.000000   119.000000    22.686774            3.000000  \n50%      40.000000   140.000000    26.861656            5.000000  \n75%      51.000000   160.000000    30.950380            8.000000  \nmax      60.000000   180.000000    34.996639           10.000000  ",
      "text/html": "<div>\n<style scoped>\n    .dataframe tbody tr th:only-of-type {\n        vertical-align: middle;\n    }\n\n    .dataframe tbody tr th {\n        vertical-align: top;\n    }\n\n    .dataframe thead th {\n        text-align: right;\n    }\n</style>\n<table border=\"1\" class=\"dataframe\">\n  <thead>\n    <tr style=\"text-align: right;\">\n      <th></th>\n      <th>Exercise</th>\n      <th>Calories Burn</th>\n      <th>Dream Weight</th>\n      <th>Actual Weight</th>\n      <th>Age</th>\n      <th>Duration</th>\n      <th>Heart Rate</th>\n      <th>BMI</th>\n      <th>Exercise Intensity</th>\n    </tr>\n  </thead>\n  <tbody>\n    <tr>\n      <th>count</th>\n      <td>3864.000000</td>\n      <td>3864.000000</td>\n      <td>3864.000000</td>\n      <td>3864.000000</td>\n      <td>3864.000000</td>\n      <td>3864.000000</td>\n      <td>3864.000000</td>\n      <td>3864.000000</td>\n      <td>3864.000000</td>\n    </tr>\n    <tr>\n      <th>mean</th>\n      <td>5.549172</td>\n      <td>301.861806</td>\n      <td>75.139263</td>\n      <td>75.188440</td>\n      <td>39.621118</td>\n      <td>40.190994</td>\n      <td>139.777950</td>\n      <td>26.801977</td>\n      <td>5.457298</td>\n    </tr>\n    <tr>\n      <th>std</th>\n      <td>2.880422</td>\n      <td>115.828604</td>\n      <td>14.545824</td>\n      <td>14.845511</td>\n      <td>12.521721</td>\n      <td>11.765957</td>\n      <td>23.447528</td>\n      <td>4.746745</td>\n      <td>2.850896</td>\n    </tr>\n    <tr>\n      <th>min</th>\n      <td>1.000000</td>\n      <td>100.009403</td>\n      <td>50.001984</td>\n      <td>45.783747</td>\n      <td>18.000000</td>\n      <td>20.000000</td>\n      <td>100.000000</td>\n      <td>18.500014</td>\n      <td>1.000000</td>\n    </tr>\n    <tr>\n      <th>25%</th>\n      <td>3.000000</td>\n      <td>202.168837</td>\n      <td>62.373585</td>\n      <td>62.476906</td>\n      <td>29.000000</td>\n      <td>30.000000</td>\n      <td>119.000000</td>\n      <td>22.686774</td>\n      <td>3.000000</td>\n    </tr>\n    <tr>\n      <th>50%</th>\n      <td>6.000000</td>\n      <td>299.742508</td>\n      <td>75.522136</td>\n      <td>75.544407</td>\n      <td>40.000000</td>\n      <td>40.000000</td>\n      <td>140.000000</td>\n      <td>26.861656</td>\n      <td>5.000000</td>\n    </tr>\n    <tr>\n      <th>75%</th>\n      <td>8.000000</td>\n      <td>404.143688</td>\n      <td>87.707989</td>\n      <td>88.105767</td>\n      <td>51.000000</td>\n      <td>51.000000</td>\n      <td>160.000000</td>\n      <td>30.950380</td>\n      <td>8.000000</td>\n    </tr>\n    <tr>\n      <th>max</th>\n      <td>10.000000</td>\n      <td>499.859262</td>\n      <td>99.985355</td>\n      <td>104.309600</td>\n      <td>60.000000</td>\n      <td>60.000000</td>\n      <td>180.000000</td>\n      <td>34.996639</td>\n      <td>10.000000</td>\n    </tr>\n  </tbody>\n</table>\n</div>"
     },
     "execution_count": 8,
     "metadata": {},
     "output_type": "execute_result"
    }
   ],
   "source": [
    "df.describe()"
   ],
   "metadata": {
    "collapsed": false,
    "ExecuteTime": {
     "end_time": "2024-01-12T21:30:26.310788Z",
     "start_time": "2024-01-12T21:30:26.292155200Z"
    }
   },
   "id": "d3d8e96b99efa557"
  },
  {
   "cell_type": "markdown",
   "source": [
    "`Calories Burn`, `Duration` and `Age` differ greatly among respondents.\n",
    "\n",
    "Now let's check our data distributions:"
   ],
   "metadata": {
    "collapsed": false
   },
   "id": "7e658d9ef823c2be"
  },
  {
   "cell_type": "code",
   "execution_count": null,
   "outputs": [],
   "source": [
    "_, axs = plt.subplots(3, 2, figsize=[10,15])\n",
    "cols = [\n",
    "    (axs[0,0], 'Calories Burn'),\n",
    "    (axs[0,1], 'Dream Weight'),\n",
    "    (axs[1,0], 'Actual Weight'),\n",
    "    (axs[1,1], 'Age'),\n",
    "    (axs[2,0], 'Duration'),\n",
    "    (axs[2,1], 'Heart Rate'),\n",
    "]\n",
    "for i, (ax, col) in enumerate(cols):\n",
    "    ax.set(title=col)\n",
    "    ax.hist(df[col], bins=40)\n",
    "plt.figure(figsize=[10,4])\n",
    "plt.title('BMI')\n",
    "plt.hist(df['BMI'], bins=40)\n",
    "\n",
    "_, axs = plt.subplots(2, 2, figsize=[11,11])\n",
    "cols = [\n",
    "    (axs[0,0], 'Exercise'),\n",
    "    (axs[0,1], 'Exercise Intensity'),\n",
    "    (axs[1,0], 'Gender'),\n",
    "    (axs[1,1], 'Weather Conditions')\n",
    "]\n",
    "\n",
    "cmap = plt.get_cmap('Blues')\n",
    "\n",
    "for i, (ax, col) in enumerate(cols):\n",
    "    ax.set(title=col)\n",
    "    values = df[col].value_counts().sort_index()\n",
    "    ind = values.index\n",
    "    colors = list(cmap(np.linspace(0.1, 0.8, len(values))))\n",
    "    ax.pie(\n",
    "        values, \n",
    "        labels=ind, \n",
    "        autopct='%.1f%%', \n",
    "        colors=colors\n",
    "    )"
   ],
   "metadata": {
    "collapsed": false
   },
   "id": "c14715ddb57f03e3"
  },
  {
   "cell_type": "markdown",
   "source": [
    "The difference between the most common `Exercise` group (fifth one) and the rarest (second) is only 50.\n",
    "\n",
    "`Actual Weight` is kinda normally distributed, that's nice.\n",
    "\n",
    "If the data is random sample, then seeing so many people over 50 exercising is a good sign. Engaging in activities that promote physical health and maintaining a healthy lifestyle can indeed reduce the risk of developing certain age-related diseases.\n",
    "\n",
    "Strange to see almost the same number of `Duration == 20` and `Duration == 60`. It's hard to imagine that the same number of people come to the gym for 20 and 60 minute workouts, given that 60 minute workouts are considered optimal and are more popular. (Author really should consider changing this distribution to exponential)\n",
    "\n",
    "Men and women were almost equally divided among the respondents. And also people don't skip their workouts or rainy days, expected less entries on rainy days.\n",
    "\n",
    "P.S. Let's try to guess from which region the statistics could've been collected (if weren't synthetic). Personally thinking it could be UK/Ireland/Pacific Northwest, USA (including Seattle)/Belgium/Netherlands/Germany/Vancouver, Canada/Scotland\n",
    "\n",
    "Let's continue with linear correlation matrix:"
   ],
   "metadata": {
    "collapsed": false
   },
   "id": "1d96c5ba009e0233"
  },
  {
   "cell_type": "code",
   "execution_count": null,
   "outputs": [],
   "source": [
    "cols = [\n",
    "    'Calories Burn', \n",
    "    'Dream Weight',\n",
    "    'Actual Weight',\n",
    "    'Age',\n",
    "    'Duration',\n",
    "    'Heart Rate',\n",
    "    'BMI',\n",
    "    'Exercise Intensity'\n",
    "]\n",
    "\n",
    "sns.heatmap(df.phik_matrix(interval_cols=cols), cmap ='seismic')"
   ],
   "metadata": {
    "collapsed": false
   },
   "id": "94d3dd0749839fef"
  },
  {
   "cell_type": "markdown",
   "source": [
    "As we can see, columns don't correlate with each other, except for `Actual Weight`/`Dream Weight` pair. It could be due to people relying on their own weight, when envisioning their weight preferences.\n",
    "\n",
    "Now it's time for a little feature engineering. Let's add a Weight Difference column with `Actual Weight` - `Dream Weight` module values and a `Gain` column describing whatever respondent wants to gain some weight or lose it:"
   ],
   "metadata": {
    "collapsed": false
   },
   "id": "3b1c851998854081"
  },
  {
   "cell_type": "code",
   "execution_count": null,
   "outputs": [],
   "source": [
    "def gain(x):\n",
    "    if x < 0:\n",
    "        return 'Gain'\n",
    "    else: return 'Lose'\n",
    "\n",
    "df['Weight Difference'] = df['Actual Weight'] - df['Dream Weight']\n",
    "df['Gain'] = df['Weight Difference'].apply(gain).astype('category')\n",
    "df['Weight Difference'] = abs(df['Weight Difference'])"
   ],
   "metadata": {
    "collapsed": false
   },
   "id": "6e345d82b2ee7848"
  },
  {
   "cell_type": "markdown",
   "source": [
    "Now let's check new columns distributions:"
   ],
   "metadata": {
    "collapsed": false
   },
   "id": "7468ae4e67b1aade"
  },
  {
   "cell_type": "code",
   "execution_count": null,
   "outputs": [],
   "source": [
    "_, axs = plt.subplots(1, 2, figsize=[11,4])\n",
    "cols = [\n",
    "    (axs[0], 'Weight Difference'),\n",
    "    (axs[1], 'Gain')\n",
    "]\n",
    "for i, (ax, col) in enumerate(cols):\n",
    "    ax.set(title=col)\n",
    "    ax.hist(df[col], bins=40)"
   ],
   "metadata": {
    "collapsed": false
   },
   "id": "8c6c77b72d7bc7eb"
  },
  {
   "cell_type": "markdown",
   "source": [
    "`Weight Difference` is kinda chaotic and `Gain` is almost equal, with little preference for weight loss.\n",
    "\n",
    "Let's see if there are weight gain/loss preferences among men and women:"
   ],
   "metadata": {
    "collapsed": false
   },
   "id": "3dd954e744181e7"
  },
  {
   "cell_type": "code",
   "execution_count": null,
   "outputs": [],
   "source": [
    "colors = cmap(np.linspace(0.1, 0.8, 2))\n",
    "df.pivot_table(\n",
    "    columns='Gain',\n",
    "    index='Gender',\n",
    "    values='Exercise',\n",
    "    aggfunc='count'\n",
    ").plot(\n",
    "    kind='pie', \n",
    "    autopct='%.1f%%',\n",
    "    colors=colors, \n",
    "    subplots=True, \n",
    "    figsize=[11,11], \n",
    "    legend=False\n",
    ")"
   ],
   "metadata": {
    "collapsed": false
   },
   "id": "28a2055729f2cf4a"
  },
  {
   "cell_type": "markdown",
   "source": [
    "Almost equal.\n",
    "\n",
    "Continue with median actual/dream weights:"
   ],
   "metadata": {
    "collapsed": false
   },
   "id": "8c9aa5f2c355dae6"
  },
  {
   "cell_type": "code",
   "execution_count": null,
   "outputs": [],
   "source": [
    "colors = cmap(np.linspace(0.1, 0.8, 2))\n",
    "df.pivot_table(\n",
    "    columns='Gender',\n",
    "    values=['Actual Weight', 'Dream Weight'],\n",
    "    aggfunc='median'\n",
    ").plot(\n",
    "    kind='bar', \n",
    "    figsize=[11,5], \n",
    "    rot=0, \n",
    "    color=colors\n",
    ");"
   ],
   "metadata": {
    "collapsed": false
   },
   "id": "f9ff1acd3e7d3538"
  },
  {
   "cell_type": "code",
   "execution_count": null,
   "outputs": [],
   "source": [
    "colors = cmap(np.linspace(0.1, 0.8, 4))\n",
    "df.pivot_table(\n",
    "    columns='Gender',\n",
    "    values=['Actual Weight', 'Dream Weight'],\n",
    "    aggfunc=['min', 'max']\n",
    ").plot(\n",
    "    kind='bar', \n",
    "    figsize=[11,5], \n",
    "    rot=0, \n",
    "    color=colors\n",
    ");"
   ],
   "metadata": {
    "collapsed": false
   },
   "id": "22a65a074f2f2088"
  },
  {
   "cell_type": "markdown",
   "source": [
    "# Model training"
   ],
   "metadata": {
    "collapsed": false
   },
   "id": "b477f1ad4ec4f491"
  },
  {
   "cell_type": "markdown",
   "source": [
    "Let's start by clarifying that Exercise Intensity is a ranking system so actually we are faced with multi-classification task, but our task will be solved with the use of regression models. Selected scoring metric will be MSE.\n",
    "\n",
    "We'll be trying following regression models:\n",
    "\n",
    "k-Nearest Neighbors\n",
    "Decision Trees\n",
    "Random Forest\n",
    "Gradient Boosting\n",
    "P.S. I'm pretty sure that Linear Regression would do better here, but let's imagine our data has complex dependencies and act accodringly.\n",
    "\n",
    "Now it's time to divide our data:"
   ],
   "metadata": {
    "collapsed": false
   },
   "id": "edd5a6a2c0ec9fdf"
  },
  {
   "cell_type": "code",
   "execution_count": null,
   "outputs": [],
   "source": [
    "cat_features = [\n",
    "    'Exercise', \n",
    "    'Gender', \n",
    "    'Weather Conditions', \n",
    "    'Gain'\n",
    "]\n",
    "\n",
    "num_features = [\n",
    "    'Dream Weight', \n",
    "    'Actual Weight', \n",
    "    'Age', \n",
    "    'Duration', \n",
    "    'Heart Rate', \n",
    "    'BMI', \n",
    "    'Weight Difference'\n",
    "]\n",
    "\n",
    "target = 'Exercise Intensity'\n",
    "\n",
    "X_train, X_test, y_train, y_test = train_test_split(\n",
    "    df[cat_features+num_features], \n",
    "    df[target], \n",
    "    test_size=0.33, \n",
    "    random_state=state\n",
    ")"
   ],
   "metadata": {
    "collapsed": false
   },
   "id": "4885a8f0878d526c"
  },
  {
   "cell_type": "markdown",
   "source": [
    "Now let's train selected models in pipeline after OHE and normalization:"
   ],
   "metadata": {
    "collapsed": false
   },
   "id": "1904f6c4dbabe3c4"
  },
  {
   "cell_type": "code",
   "execution_count": null,
   "outputs": [],
   "source": [
    "# Pipeline stuff\n",
    "# adding imputer in case future df updates will be with NaNs\n",
    "\n",
    "numeric_transformer = Pipeline(\n",
    "    steps=[\n",
    "        ('imputer', SimpleImputer(strategy='mean')),\n",
    "        ('normalizer', Normalizer())\n",
    "    ]\n",
    ")\n",
    "\n",
    "categorical_transformer = Pipeline(\n",
    "    steps=[\n",
    "        ('imputer', SimpleImputer(strategy='constant')),\n",
    "        ('encoder', OrdinalEncoder())\n",
    "    ]\n",
    ")\n",
    "\n",
    "preprocessor = ColumnTransformer(\n",
    "   transformers=[\n",
    "       ('numeric', numeric_transformer, num_features),\n",
    "       ('categorical', categorical_transformer, cat_features)\n",
    "   ]\n",
    ")"
   ],
   "metadata": {
    "collapsed": false
   },
   "id": "c3008c2d6a5bbdb9"
  },
  {
   "cell_type": "code",
   "execution_count": null,
   "outputs": [],
   "source": [
    "regressors = [\n",
    "    KNeighborsRegressor(), \n",
    "    DecisionTreeRegressor(), \n",
    "    RandomForestRegressor(), \n",
    "    GradientBoostingRegressor()\n",
    "]\n",
    "\n",
    "models = []\n",
    "scores = []\n",
    "\n",
    "for regressor in regressors:\n",
    "    steps = [\n",
    "        ('preprocess', preprocessor),\n",
    "        ('reg', regressor)\n",
    "    ]\n",
    "    pipeline = Pipeline(steps)\n",
    "    scorer = cross_val_score(\n",
    "        pipeline, \n",
    "        X_train, \n",
    "        y_train, \n",
    "        cv=5,\n",
    "        scoring='neg_mean_squared_error', \n",
    "        n_jobs=-1\n",
    "    )\n",
    "    models.append(str(regressor))\n",
    "    scores.append(scorer.mean())\n",
    "\n",
    "plt.figure(figsize=(10,5))\n",
    "plt.barh(models, scores)\n",
    "plt.show();"
   ],
   "metadata": {
    "collapsed": false
   },
   "id": "5b436f8cce8c8c75"
  },
  {
   "cell_type": "markdown",
   "source": [
    "As we can see `GradientBoostingRegressor` has lowest MSE. Now it's time to tune it. We will be tuning in two steps, starting with `RandomSearchCV` and then getting best parameters possible with `GridSearchCV`."
   ],
   "metadata": {
    "collapsed": false
   },
   "id": "3cfea13105d0e0fa"
  },
  {
   "cell_type": "code",
   "execution_count": null,
   "outputs": [],
   "source": [
    "loss = ['quantile', 'squared_error', 'absolute_error', 'huber']\n",
    "max_features = ['sqrt', 'log2', None]\n",
    "n_estimators = [int(x) for x in np.linspace(start = 50, stop = 300, num = 15)]\n",
    "max_depth = [int(x) for x in np.linspace(start = 1, stop = 15, num = 15)]\n",
    "min_samples_split = [int(x) for x in np.linspace(start = 2, stop = 50, num = 15)]\n",
    "min_samples_leaf = [int(x) for x in np.linspace(start = 2, stop = 50, num = 15)]\n",
    "\n",
    "hyperparameter_grid = {\n",
    "    'reg__loss': loss,\n",
    "    'reg__max_features': max_features,\n",
    "    'reg__n_estimators': n_estimators,\n",
    "    'reg__max_depth': max_depth,\n",
    "    'reg__min_samples_split': min_samples_split,\n",
    "    'reg__min_samples_leaf': min_samples_leaf\n",
    "}\n",
    "\n",
    "random_cv = RandomizedSearchCV(\n",
    "    estimator=pipeline,\n",
    "    param_distributions=hyperparameter_grid,\n",
    "    cv=3,\n",
    "    n_iter=200,\n",
    "    scoring='neg_mean_squared_error',\n",
    "    n_jobs=-1,\n",
    "    verbose=1,\n",
    "    return_train_score=True,\n",
    "    random_state=state\n",
    ")\n",
    "\n",
    "random_cv.fit(X_train, y_train)\n",
    "\n",
    "print()\n",
    "print('Best params:')\n",
    "print(random_cv.best_params_)\n",
    "print()\n",
    "print('Best score:', random_cv.best_score_)"
   ],
   "metadata": {
    "collapsed": false
   },
   "id": "1cf67e731a19ce57"
  },
  {
   "cell_type": "code",
   "execution_count": null,
   "outputs": [],
   "source": [
    "rs_df = pd.DataFrame(random_cv.cv_results_).sort_values('rank_test_score').reset_index(drop=True)\n",
    "rs_df.loc[rs_df['param_reg__max_features'].isna(), 'param_reg__max_features'] = 'None'\n",
    "\n",
    "cols = [\n",
    "    'param_reg__loss', \n",
    "    'param_reg__max_features',\n",
    "    'param_reg__n_estimators',\n",
    "    'param_reg__max_depth',\n",
    "    'param_reg__min_samples_split',\n",
    "    'param_reg__min_samples_leaf'\n",
    "]\n",
    "pref = 'param_reg__'\n",
    "\n",
    "fig, axs = plt.subplots(ncols=2, nrows=3)\n",
    "fig.set_size_inches(30,25)\n",
    "sns.set(font_scale=2)\n",
    "color = 'lightblue'\n",
    "i = 0\n",
    "j = 0\n",
    "\n",
    "for col in cols:\n",
    "    sns.barplot(\n",
    "        x=col,\n",
    "        y='mean_test_score', \n",
    "        data=rs_df, \n",
    "        ax=axs[i,j], \n",
    "        color=color\n",
    "    )\n",
    "    axs[i,j].set_title(\n",
    "        label=col.replace(pref, ''), \n",
    "        size=30, \n",
    "        weight='bold'\n",
    "    )\n",
    "    axs[i,j].set_xlabel('')\n",
    "    j += 1\n",
    "    if j == 2:\n",
    "        i += 1\n",
    "        j = 0"
   ],
   "metadata": {
    "collapsed": false
   },
   "id": "7ac533b94ead212a"
  },
  {
   "cell_type": "markdown",
   "source": [
    "Graphs show us no good reason to go for upper values in hyperparameters. Let's continue with `GridSearchCV`:"
   ],
   "metadata": {
    "collapsed": false
   },
   "id": "a2bffe609800dae7"
  },
  {
   "cell_type": "code",
   "execution_count": null,
   "outputs": [],
   "source": [
    "loss = ['absolute_error']\n",
    "max_features = ['log2', None]\n",
    "n_estimators = range(45, 55)\n",
    "max_depth = range(1, 6)\n",
    "min_samples_split = range(2, 9, 2)\n",
    "min_samples_leaf = range(2, 9, 2)\n",
    "\n",
    "hyperparameter_grid = {\n",
    "    'reg__loss': loss,\n",
    "    'reg__max_features': max_features,\n",
    "    'reg__n_estimators': n_estimators,\n",
    "    'reg__max_depth': max_depth,\n",
    "    'reg__min_samples_split': min_samples_split,\n",
    "    'reg__min_samples_leaf': min_samples_leaf\n",
    "}\n",
    "\n",
    "grid_cv = GridSearchCV(\n",
    "    estimator=pipeline,\n",
    "    param_grid=hyperparameter_grid,\n",
    "    cv=3, \n",
    "    scoring='neg_mean_squared_error',\n",
    "    verbose=1,\n",
    "    n_jobs=-1\n",
    ")\n",
    "\n",
    "grid_cv.fit(X_train, y_train)\n",
    "best_params = grid_cv.best_params_\n",
    "\n",
    "print()\n",
    "print('Best params:')\n",
    "print(best_params)\n",
    "print()\n",
    "print('Best score:', grid_cv.best_score_)"
   ],
   "metadata": {
    "collapsed": false
   },
   "id": "7b5e26e370847af8"
  },
  {
   "cell_type": "markdown",
   "source": [
    "Let's finish by checking MSE score on test subset:"
   ],
   "metadata": {
    "collapsed": false
   },
   "id": "48f1809590ad445d"
  },
  {
   "cell_type": "code",
   "execution_count": null,
   "outputs": [],
   "source": [
    "pipeline.set_params(**best_params)\n",
    "\n",
    "pipeline.fit(X_train, y_train)\n",
    "y_pred = np.round(pipeline.predict(X_test))\n",
    "print(f'MSE for test subset: {mean_squared_error(y_test, y_pred)}')"
   ],
   "metadata": {
    "collapsed": false
   },
   "id": "d8890892efe2d975"
  },
  {
   "cell_type": "markdown",
   "source": [
    "# Conclusion"
   ],
   "metadata": {
    "collapsed": false
   },
   "id": "958db286771a3521"
  },
  {
   "cell_type": "markdown",
   "source": [
    "As mentioned above gathering individual health data when working out at a gym is vital for monitoring progress, identifying potential health risks, personalizing training programs, fostering motivation and accountability, and contributing to research. It empowers individuals to make informed decisions about their fitness journey, enhances safety and effectiveness, and promotes overall well-being.\n",
    "\n",
    "As in almost any other field, machine learning can play a significant role in analyzing and utilizing the gathered individual workout data from gyms. The following are some examples of possible applications of ML:\n",
    "\n",
    "Personalized Recommendations: Machine learning algorithms can analyze an individual's health data, workout history, and goals to provide personalized recommendations for exercise routines, nutrition plans, and recovery strategies.\n",
    "\n",
    "Predictive Analytics: By applying machine learning techniques to historical health data, algorithms can identify patterns and correlations that predict future outcomes.\n",
    "\n",
    "Health Data Analysis: This analysis can help identify dynamic health deterioration and predict possible progressive diseases, suggest an individual to visit a doctor in time. It can also identify factors that contribute to successful outcomes, uncover hidden patterns, and inform evidence-based practices in exercise science and fitness training.\n",
    "\n",
    "Risk Assessment and Health Management: By leveraging machine learning, gyms and fitness centers can develop risk assessment models to identify individuals at higher risk of certain health conditions or injuries before they get hurt.\n",
    "\n",
    "Behavior Change and Motivation: Machine learning algorithms can analyze behavioral patterns, exercise adherence data, and motivational factors to personalize interventions aimed at promoting long-term behavior change.\n",
    "\n",
    "In this notebook we tried to use Machine learning algorithms to analyze performance metrics to suggest exercise intensity to optimize performance gains."
   ],
   "metadata": {
    "collapsed": false
   },
   "id": "697d61e4831303c6"
  }
 ],
 "metadata": {
  "kernelspec": {
   "display_name": "Python 3",
   "language": "python",
   "name": "python3"
  },
  "language_info": {
   "codemirror_mode": {
    "name": "ipython",
    "version": 2
   },
   "file_extension": ".py",
   "mimetype": "text/x-python",
   "name": "python",
   "nbconvert_exporter": "python",
   "pygments_lexer": "ipython2",
   "version": "2.7.6"
  }
 },
 "nbformat": 4,
 "nbformat_minor": 5
}
