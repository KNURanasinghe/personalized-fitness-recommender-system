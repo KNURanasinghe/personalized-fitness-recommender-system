{
 "cells": [
  {
   "cell_type": "code",
   "execution_count": 1,
   "outputs": [],
   "source": [
    "import pandas as pd\n",
    "import numpy as np\n",
    "import sklearn\n",
    "from sklearn.neighbors import NearestNeighbors"
   ],
   "metadata": {
    "collapsed": false,
    "ExecuteTime": {
     "end_time": "2024-01-13T11:51:05.658287400Z",
     "start_time": "2024-01-13T11:51:05.423529800Z"
    }
   },
   "id": "f71060d3cb521f67"
  },
  {
   "cell_type": "code",
   "execution_count": 3,
   "outputs": [],
   "source": [
    "df = pd.read_csv('dataset.csv')"
   ],
   "metadata": {
    "collapsed": false,
    "ExecuteTime": {
     "end_time": "2024-01-13T11:51:20.631095900Z",
     "start_time": "2024-01-13T11:51:20.614978Z"
    }
   },
   "id": "165511512fa762a8"
  },
  {
   "cell_type": "code",
   "execution_count": 7,
   "outputs": [],
   "source": [
    "class Recommender:\n",
    "    \n",
    "    def __init__(self):\n",
    "        self.df = pd.read_csv('dataset.csv')\n",
    "    \n",
    "    def get_features(self):\n",
    "        #getting dummies of dataset\n",
    "        nutrient_dummies = self.df.Nutrient.str.get_dummies()\n",
    "        disease_dummies = self.df.Disease.str.get_dummies(sep=' ')\n",
    "        diet_dummies = self.df.Diet.str.get_dummies(sep=' ')\n",
    "        feature_df = pd.concat([nutrient_dummies,disease_dummies,diet_dummies],axis=1)\n",
    "     \n",
    "        return feature_df\n",
    "    \n",
    "    def k_neighbor(self,inputs):\n",
    "        \n",
    "        feature_df = self.get_features()\n",
    "        \n",
    "        #initializing model with k=20 neighbors\n",
    "        model = NearestNeighbors(n_neighbors=40,algorithm='ball_tree')\n",
    "        \n",
    "        # fitting model with dataset features\n",
    "        model.fit(feature_df)\n",
    "        \n",
    "        df_results = pd.DataFrame(columns=list(self.df.columns))\n",
    "        \n",
    "      \n",
    "        # getting distance and indices for k nearest neighbor\n",
    "        distnaces , indices = model.kneighbors(inputs)\n",
    "\n",
    "        for i in list(indices):\n",
    "            df_results = df_results._append(self.df.loc[i])\n",
    "                \n",
    "        df_results = df_results.filter(['Name','Nutrient','Veg_Non','Price','Review','Diet','Disease','description'])\n",
    "        df_results = df_results.drop_duplicates(subset=['Name'])\n",
    "        df_results = df_results.reset_index(drop=True)\n",
    "        return df_results"
   ],
   "metadata": {
    "collapsed": false,
    "ExecuteTime": {
     "end_time": "2024-01-13T11:52:00.480288800Z",
     "start_time": "2024-01-13T11:52:00.471168600Z"
    }
   },
   "id": "fc79b0d6f8926f77"
  },
  {
   "cell_type": "code",
   "execution_count": 8,
   "outputs": [
    {
     "name": "stdout",
     "output_type": "stream",
     "text": [
      "{'calcium': 0, 'carbohydrates': 0, 'chloride': 0, 'fiber': 0, 'iodine': 0, 'iron': 0, 'magnesium': 0, 'manganese': 0, 'phosphorus': 0, 'potassium': 0, 'protien': 0, 'selenium': 0, 'sodium': 0, 'vitamin_a': 0, 'vitamin_c': 0, 'vitamin_d': 0, 'vitamin_e': 0, 'anemia': 0, 'cancer': 0, 'diabeties': 0, 'eye_disease': 0, 'goitre': 0, 'heart_disease': 0, 'hypertension': 0, 'kidney_disease': 0, 'obesity': 0, 'pregnancy': 0, 'rickets': 0, 'scurvy': 0, 'Mediterranean_diet': 0, 'alkaline_diet': 0, 'dash_diet': 0, 'gluten_free_diet': 0, 'high_fiber_diet': 0, 'high_protien_diet': 0, 'hormone_diet': 0, 'ketogenic_diet': 0, 'low_carb_diet': 0, 'low_fat_diet': 0, 'low_sodium_diet': 0, 'omni_diet': 0, 'paleo_diet': 0, 'type_a_diet': 0, 'type_o_diet': 0, 'vegan_diet': 0}\n"
     ]
    }
   ],
   "source": [
    "ob = Recommender()\n",
    "data = ob.get_features()\n",
    "\n",
    "total_features = data.columns\n",
    "d = dict()\n",
    "for i in total_features:\n",
    "    d[i]= 0\n",
    "print(d)"
   ],
   "metadata": {
    "collapsed": false,
    "ExecuteTime": {
     "end_time": "2024-01-13T11:52:02.364561Z",
     "start_time": "2024-01-13T11:52:02.333014600Z"
    }
   },
   "id": "662d6270f9710819"
  },
  {
   "cell_type": "code",
   "execution_count": 9,
   "outputs": [],
   "source": [
    "sample_input = ['high_protien_diet','gluten_free_diet','diabeties','anemia','calcium','protien']\n",
    "\n",
    "for i in sample_input:\n",
    "    \n",
    "    d[i] = 1\n",
    "\n",
    "final_input = list(d.values())"
   ],
   "metadata": {
    "collapsed": false,
    "ExecuteTime": {
     "end_time": "2024-01-13T11:52:05.320454400Z",
     "start_time": "2024-01-13T11:52:05.313085500Z"
    }
   },
   "id": "7a39940e5b1f108c"
  },
  {
   "cell_type": "code",
   "execution_count": null,
   "outputs": [],
   "source": [
    "results = ob.k_neighbor([final_input]) # pass 2d array []\n",
    "results"
   ],
   "metadata": {
    "collapsed": false
   },
   "id": "61a6b30abdf4a05d"
  },
  {
   "cell_type": "code",
   "execution_count": null,
   "outputs": [],
   "source": [
    "my_df_check=pd.read_csv('../input/recommender/dataset.csv')\n",
    "my_df_check.head()"
   ],
   "metadata": {
    "collapsed": false
   },
   "id": "139af24a140287c0"
  },
  {
   "cell_type": "code",
   "execution_count": null,
   "outputs": [],
   "source": [
    "my_df_check.Diet.unique()"
   ],
   "metadata": {
    "collapsed": false
   },
   "id": "4685157f60505176"
  },
  {
   "cell_type": "code",
   "execution_count": null,
   "outputs": [],
   "source": [
    "my_df_check.Nutrient.unique()"
   ],
   "metadata": {
    "collapsed": false
   },
   "id": "19854724d351c19c"
  },
  {
   "cell_type": "code",
   "execution_count": null,
   "outputs": [],
   "source": [
    "my_df_check.Disease.unique()"
   ],
   "metadata": {
    "collapsed": false
   },
   "id": "fd05b8ae686c1825"
  },
  {
   "cell_type": "code",
   "execution_count": null,
   "outputs": [],
   "source": [
    "import pandas as pd \n",
    "import numpy as np\n",
    "import warnings\n",
    "import time\n",
    "import seaborn as sns\n",
    "import matplotlib.pyplot as plt\n",
    "import random\n",
    "import nltk\n",
    "from nltk.corpus import stopwords\n",
    "\n",
    "warnings.filterwarnings('ignore')"
   ],
   "metadata": {
    "collapsed": false
   },
   "id": "c46d4354caaedf7d"
  },
  {
   "cell_type": "code",
   "execution_count": null,
   "outputs": [],
   "source": [
    "class Profile:\n",
    "    \n",
    "    df = pd.read_csv('../input/recommender/dataset.csv') # static variable\n",
    "    \n",
    "    def __init__(self,diet,disease,Nutrient,food_type,favorite_food):\n",
    "        self.diet = diet\n",
    "        self.disease = disease\n",
    "        self.nutrient = Nutrient\n",
    "        self.type = food_type\n",
    "        self.like = favorite_food\n",
    "        self.df2 = pd.DataFrame(columns=list(Profile.df.columns))\n",
    "        self.df3 = pd.DataFrame(columns=list(Profile.df.columns))\n",
    "        self.df4 = pd.DataFrame(columns=list(Profile.df.columns))\n",
    "        self.df5 = pd.DataFrame(columns=list(Profile.df.columns))\n",
    "        self.df6 = pd.DataFrame(columns=list(Profile.df.columns))\n",
    "        \n",
    "    def removestop(self,tokens):\n",
    "        stop = set(stopwords.words('english'))\n",
    "        file = open('../input/stopword/stopwords.txt','r')\n",
    "        l = list(file.read().split())\n",
    "        stop = list(stop) +l\n",
    "        l = [token for token in tokens if token not in stop]\n",
    "        return l\n",
    "            \n",
    "    def inputs(self,diet,disease,Nutrient,food_type,favorite_food):\n",
    "        \n",
    "        if Nutrient:\n",
    "            self.df2 = Profile.df[Profile.df.Nutrient.isin(Nutrient)]\n",
    "            self.df2 = self.df2.reset_index()\n",
    "       \n",
    "        if food_type:\n",
    "            self.df2 = self.df2[self.df2.Veg_Non.isin(food_type)]\n",
    "            self.df2 = self.df2.reset_index()\n",
    "      \n",
    "        if diet:\n",
    "            for i in range(self.df2.shape[0]):\n",
    "                l = str(self.df2.loc[i,'Diet']).split()\n",
    "                \n",
    "                for d in diet:\n",
    "                    if d in l:\n",
    "                        self.df4=self.df4.append(self.df2.loc[i])\n",
    " \n",
    "        if disease:\n",
    "            for i in range(self.df2.shape[0]):\n",
    "                l = str(self.df2.loc[i,'Disease']).split()\n",
    "                for d in disease:\n",
    "                    if d in l:\n",
    "                        self.df5=self.df5.append(self.df2.loc[i])\n",
    "\n",
    "        if favorite_food:\n",
    "            f = self.removestop(favorite_food.split())\n",
    "            for i in range(Profile.df.shape[0]):\n",
    "                n = [j.lower() for j in str(Profile.df.loc[i,'Name']).split()]\n",
    "                for j in n:\n",
    "                    for k in f:\n",
    "                        if k==j:\n",
    "                            self.df6=self.df6.append(Profile.df.loc[i])\n",
    "            for i in range(Profile.df.shape[0]):\n",
    "                n = [j.lower() for j in str(Profile.df.loc[i,'description']).split()]\n",
    "                for j in n:\n",
    "                    for k in f:\n",
    "                        if k==j:\n",
    "                            self.df6=self.df6.append(df.loc[i])\n",
    "            for i in range(Profile.df.shape[0]):\n",
    "                n = [j.lower() for j in str(Profile.df.loc[i,'catagory']).split()]\n",
    "                for j in n:\n",
    "                    for k in f:\n",
    "                        if k==j:\n",
    "                            self.df6=self.df6.append(Profile.df.loc[i])\n",
    "            \n",
    "        return self.df2,self.df3,self.df4,self.df5,self.df6\n",
    "    \n",
    "    def get_profile(self):\n",
    "        df2,df3,df4,df5,df6 = self.inputs(self.diet,self.disease,self.nutrient,self.type,self.like)\n",
    "        \n",
    "        df_merge = pd.concat([df2,df3,df4,df5,df6],axis=0).drop_duplicates(subset='Name')\n",
    "        df_merge = df_merge.filter(['Name','Nutrient','Veg_Non','Price','Review','description'])\n",
    "        print(df_merge.shape)\n",
    "        \n",
    "        return df_merge"
   ],
   "metadata": {
    "collapsed": false
   },
   "id": "138d7aecf7e17923"
  },
  {
   "cell_type": "code",
   "execution_count": null,
   "outputs": [],
   "source": [
    "ob = Profile(['low_sodium_diet','low_fat_diet'],['diabetes','rickets'],\n",
    "             ['calcium','vitamin_c'],['non-veg'],'i love chineese')\n",
    "\n",
    "profile = ob.get_profile()\n",
    "profile"
   ],
   "metadata": {
    "collapsed": false
   },
   "id": "b00b4116db9c1f2a"
  }
 ],
 "metadata": {
  "kernelspec": {
   "display_name": "Python 3",
   "language": "python",
   "name": "python3"
  },
  "language_info": {
   "codemirror_mode": {
    "name": "ipython",
    "version": 2
   },
   "file_extension": ".py",
   "mimetype": "text/x-python",
   "name": "python",
   "nbconvert_exporter": "python",
   "pygments_lexer": "ipython2",
   "version": "2.7.6"
  }
 },
 "nbformat": 4,
 "nbformat_minor": 5
}
