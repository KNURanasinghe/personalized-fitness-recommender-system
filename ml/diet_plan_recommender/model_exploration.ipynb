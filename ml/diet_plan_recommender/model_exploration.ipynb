{
 "cells": [
  {
   "cell_type": "code",
   "execution_count": null,
   "id": "initial_id",
   "metadata": {
    "collapsed": true
   },
   "outputs": [],
   "source": [
    "import pandas as pd\n",
    "import numpy as np\n",
    "import sklearn\n",
    "from sklearn.neighbors import NearestNeighbors"
   ]
  },
  {
   "cell_type": "code",
   "execution_count": null,
   "outputs": [],
   "source": [
    "df = pd.read_csv('dataset.csv')"
   ],
   "metadata": {
    "collapsed": false
   },
   "id": "2591518044e7887f"
  },
  {
   "cell_type": "code",
   "execution_count": null,
   "outputs": [],
   "source": [
    "class Recommender:\n",
    "    \n",
    "    def __init__(self):\n",
    "        self.df = pd.read_csv('../input/recommender/dataset.csv')\n",
    "    \n",
    "    def get_features(self):\n",
    "        #getting dummies of dataset\n",
    "        nutrient_dummies = self.df.Nutrient.str.get_dummies()\n",
    "        disease_dummies = self.df.Disease.str.get_dummies(sep=' ')\n",
    "        diet_dummies = self.df.Diet.str.get_dummies(sep=' ')\n",
    "        feature_df = pd.concat([nutrient_dummies,disease_dummies,diet_dummies],axis=1)\n",
    "     \n",
    "        return feature_df\n",
    "    \n",
    "    def k_neighbor(self,inputs):\n",
    "        \n",
    "        feature_df = self.get_features()\n",
    "        \n",
    "        #initializing model with k=20 neighbors\n",
    "        model = NearestNeighbors(n_neighbors=40,algorithm='ball_tree')\n",
    "        \n",
    "        # fitting model with dataset features\n",
    "        model.fit(feature_df)\n",
    "        \n",
    "        df_results = pd.DataFrame(columns=list(self.df.columns))\n",
    "        \n",
    "      \n",
    "        # getting distance and indices for k nearest neighbor\n",
    "        distnaces , indices = model.kneighbors(inputs)\n",
    "\n",
    "        for i in list(indices):\n",
    "            df_results = df_results.append(self.df.loc[i])\n",
    "                \n",
    "        df_results = df_results.filter(['Name','Nutrient','Veg_Non','Price','Review','Diet','Disease','description'])\n",
    "        df_results = df_results.drop_duplicates(subset=['Name'])\n",
    "        df_results = df_results.reset_index(drop=True)\n",
    "        return df_results"
   ],
   "metadata": {
    "collapsed": false
   },
   "id": "fb694a7c7c4de95"
  },
  {
   "cell_type": "code",
   "execution_count": null,
   "outputs": [],
   "source": [
    "ob = Recommender()\n",
    "data = ob.get_features()\n",
    "\n",
    "total_features = data.columns\n",
    "d = dict()\n",
    "for i in total_features:\n",
    "    d[i]= 0\n",
    "print(d)"
   ],
   "metadata": {
    "collapsed": false
   },
   "id": "e31044ae05aa17e"
  },
  {
   "cell_type": "code",
   "execution_count": null,
   "outputs": [],
   "source": [
    "sample_input = ['high_protien_diet','gluten_free_diet','diabeties','anemia','calcium','protien']\n",
    "\n",
    "for i in sample_input:\n",
    "    \n",
    "    d[i] = 1\n",
    "\n",
    "final_input = list(d.values())"
   ],
   "metadata": {
    "collapsed": false
   },
   "id": "774da71fee9f8275"
  },
  {
   "cell_type": "code",
   "execution_count": null,
   "outputs": [],
   "source": [
    "results = ob.k_neighbor([final_input]) # pass 2d array []\n",
    "results"
   ],
   "metadata": {
    "collapsed": false
   },
   "id": "b854712159ee1914"
  },
  {
   "cell_type": "code",
   "execution_count": null,
   "outputs": [],
   "source": [
    "my_df_check=pd.read_csv('dataset.csv')\n",
    "my_df_check.head()"
   ],
   "metadata": {
    "collapsed": false
   },
   "id": "7f3359bc9cb3bd34"
  }
 ],
 "metadata": {
  "kernelspec": {
   "display_name": "Python 3",
   "language": "python",
   "name": "python3"
  },
  "language_info": {
   "codemirror_mode": {
    "name": "ipython",
    "version": 2
   },
   "file_extension": ".py",
   "mimetype": "text/x-python",
   "name": "python",
   "nbconvert_exporter": "python",
   "pygments_lexer": "ipython2",
   "version": "2.7.6"
  }
 },
 "nbformat": 4,
 "nbformat_minor": 5
}
