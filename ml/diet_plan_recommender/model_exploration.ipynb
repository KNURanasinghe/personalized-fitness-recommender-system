{
 "cells": [
  {
   "cell_type": "code",
   "execution_count": 1,
   "id": "initial_id",
   "metadata": {
    "collapsed": true,
    "ExecuteTime": {
     "end_time": "2024-01-13T11:37:21.106325200Z",
     "start_time": "2024-01-13T11:37:20.800383Z"
    }
   },
   "outputs": [],
   "source": [
    "import pandas as pd\n",
    "import numpy as np\n",
    "import sklearn\n",
    "from sklearn.neighbors import NearestNeighbors"
   ]
  },
  {
   "cell_type": "code",
   "execution_count": 2,
   "outputs": [],
   "source": [
    "df = pd.read_csv('dataset.csv')"
   ],
   "metadata": {
    "collapsed": false,
    "ExecuteTime": {
     "end_time": "2024-01-13T11:37:25.145845400Z",
     "start_time": "2024-01-13T11:37:25.130090600Z"
    }
   },
   "id": "2591518044e7887f"
  },
  {
   "cell_type": "code",
   "execution_count": 13,
   "outputs": [],
   "source": [
    "class Recommender:\n",
    "    \n",
    "    def __init__(self):\n",
    "        self.df = pd.read_csv('dataset.csv')\n",
    "    \n",
    "    def get_features(self):\n",
    "        #getting dummies of dataset\n",
    "        nutrient_dummies = self.df.Nutrient.str.get_dummies()\n",
    "        disease_dummies = self.df.Disease.str.get_dummies(sep=' ')\n",
    "        diet_dummies = self.df.Diet.str.get_dummies(sep=' ')\n",
    "        feature_df = pd.concat([nutrient_dummies,disease_dummies,diet_dummies],axis=1)\n",
    "     \n",
    "        return feature_df\n",
    "    \n",
    "    def k_neighbor(self,inputs):\n",
    "        \n",
    "        feature_df = self.get_features()\n",
    "        \n",
    "        #initializing model with k=20 neighbors\n",
    "        model = NearestNeighbors(n_neighbors=40,algorithm='ball_tree')\n",
    "        \n",
    "        # fitting model with dataset features\n",
    "        model.fit(feature_df)\n",
    "        \n",
    "        df_results = pd.DataFrame(columns=list(self.df.columns))\n",
    "        \n",
    "      \n",
    "        # getting distance and indices for k nearest neighbor\n",
    "        distances , indices = model.kneighbors(inputs)\n",
    "\n",
    "        for i in list(indices[0]):\n",
    "            df_results = df_results.append(self.df.loc[i])\n",
    "\n",
    "        df_results = df_results.filter(['Name','Nutrient','Veg_Non','Price','Review','Diet','Disease','description'])\n",
    "        df_results = df_results.drop_duplicates(subset=['Name'])\n",
    "        df_results = df_results.reset_index(drop=True)\n",
    "        return df_results"
   ],
   "metadata": {
    "collapsed": false,
    "ExecuteTime": {
     "end_time": "2024-01-13T11:43:34.053602400Z",
     "start_time": "2024-01-13T11:43:34.037630200Z"
    }
   },
   "id": "fb694a7c7c4de95"
  },
  {
   "cell_type": "code",
   "execution_count": 14,
   "outputs": [
    {
     "name": "stdout",
     "output_type": "stream",
     "text": [
      "{'calcium': 0, 'carbohydrates': 0, 'chloride': 0, 'fiber': 0, 'iodine': 0, 'iron': 0, 'magnesium': 0, 'manganese': 0, 'phosphorus': 0, 'potassium': 0, 'protien': 0, 'selenium': 0, 'sodium': 0, 'vitamin_a': 0, 'vitamin_c': 0, 'vitamin_d': 0, 'vitamin_e': 0, 'anemia': 0, 'cancer': 0, 'diabeties': 0, 'eye_disease': 0, 'goitre': 0, 'heart_disease': 0, 'hypertension': 0, 'kidney_disease': 0, 'obesity': 0, 'pregnancy': 0, 'rickets': 0, 'scurvy': 0, 'Mediterranean_diet': 0, 'alkaline_diet': 0, 'dash_diet': 0, 'gluten_free_diet': 0, 'high_fiber_diet': 0, 'high_protien_diet': 0, 'hormone_diet': 0, 'ketogenic_diet': 0, 'low_carb_diet': 0, 'low_fat_diet': 0, 'low_sodium_diet': 0, 'omni_diet': 0, 'paleo_diet': 0, 'type_a_diet': 0, 'type_o_diet': 0, 'vegan_diet': 0}\n"
     ]
    }
   ],
   "source": [
    "ob = Recommender()\n",
    "data = ob.get_features()\n",
    "\n",
    "total_features = data.columns\n",
    "d = dict()\n",
    "for i in total_features:\n",
    "    d[i]= 0\n",
    "print(d)"
   ],
   "metadata": {
    "collapsed": false,
    "ExecuteTime": {
     "end_time": "2024-01-13T11:43:34.690252500Z",
     "start_time": "2024-01-13T11:43:34.652895800Z"
    }
   },
   "id": "e31044ae05aa17e"
  },
  {
   "cell_type": "code",
   "execution_count": 15,
   "outputs": [],
   "source": [
    "sample_input = ['high_protien_diet','gluten_free_diet','diabeties','anemia','calcium','protien']\n",
    "\n",
    "for i in sample_input:\n",
    "    \n",
    "    d[i] = 1\n",
    "\n",
    "final_input = list(d.values())"
   ],
   "metadata": {
    "collapsed": false,
    "ExecuteTime": {
     "end_time": "2024-01-13T11:43:35.535688600Z",
     "start_time": "2024-01-13T11:43:35.526443700Z"
    }
   },
   "id": "774da71fee9f8275"
  },
  {
   "cell_type": "code",
   "execution_count": 16,
   "outputs": [
    {
     "name": "stderr",
     "output_type": "stream",
     "text": [
      "C:\\Dev\\Python\\Lib\\site-packages\\sklearn\\base.py:464: UserWarning: X does not have valid feature names, but NearestNeighbors was fitted with feature names\n",
      "  warnings.warn(\n"
     ]
    },
    {
     "ename": "AttributeError",
     "evalue": "'DataFrame' object has no attribute 'append'",
     "output_type": "error",
     "traceback": [
      "\u001B[1;31m---------------------------------------------------------------------------\u001B[0m",
      "\u001B[1;31mAttributeError\u001B[0m                            Traceback (most recent call last)",
      "\u001B[1;32m~\\AppData\\Local\\Temp\\ipykernel_19568\\1754387895.py\u001B[0m in \u001B[0;36m?\u001B[1;34m()\u001B[0m\n\u001B[1;32m----> 1\u001B[1;33m \u001B[0mresults\u001B[0m \u001B[1;33m=\u001B[0m \u001B[0mob\u001B[0m\u001B[1;33m.\u001B[0m\u001B[0mk_neighbor\u001B[0m\u001B[1;33m(\u001B[0m\u001B[1;33m[\u001B[0m\u001B[0mfinal_input\u001B[0m\u001B[1;33m]\u001B[0m\u001B[1;33m)\u001B[0m \u001B[1;31m# pass 2d array []\u001B[0m\u001B[1;33m\u001B[0m\u001B[1;33m\u001B[0m\u001B[0m\n\u001B[0m\u001B[0;32m      2\u001B[0m \u001B[0mresults\u001B[0m\u001B[1;33m\u001B[0m\u001B[1;33m\u001B[0m\u001B[0m\n",
      "\u001B[1;32m~\\AppData\\Local\\Temp\\ipykernel_19568\\2689457430.py\u001B[0m in \u001B[0;36m?\u001B[1;34m(self, inputs)\u001B[0m\n\u001B[0;32m     28\u001B[0m         \u001B[1;31m# getting distance and indices for k nearest neighbor\u001B[0m\u001B[1;33m\u001B[0m\u001B[1;33m\u001B[0m\u001B[0m\n\u001B[0;32m     29\u001B[0m         \u001B[0mdistances\u001B[0m \u001B[1;33m,\u001B[0m \u001B[0mindices\u001B[0m \u001B[1;33m=\u001B[0m \u001B[0mmodel\u001B[0m\u001B[1;33m.\u001B[0m\u001B[0mkneighbors\u001B[0m\u001B[1;33m(\u001B[0m\u001B[0minputs\u001B[0m\u001B[1;33m)\u001B[0m\u001B[1;33m\u001B[0m\u001B[1;33m\u001B[0m\u001B[0m\n\u001B[0;32m     30\u001B[0m \u001B[1;33m\u001B[0m\u001B[0m\n\u001B[0;32m     31\u001B[0m         \u001B[1;32mfor\u001B[0m \u001B[0mi\u001B[0m \u001B[1;32min\u001B[0m \u001B[0mlist\u001B[0m\u001B[1;33m(\u001B[0m\u001B[0mindices\u001B[0m\u001B[1;33m[\u001B[0m\u001B[1;36m0\u001B[0m\u001B[1;33m]\u001B[0m\u001B[1;33m)\u001B[0m\u001B[1;33m:\u001B[0m\u001B[1;33m\u001B[0m\u001B[1;33m\u001B[0m\u001B[0m\n\u001B[1;32m---> 32\u001B[1;33m             \u001B[0mdf_results\u001B[0m \u001B[1;33m=\u001B[0m \u001B[0mdf_results\u001B[0m\u001B[1;33m.\u001B[0m\u001B[0mappend\u001B[0m\u001B[1;33m(\u001B[0m\u001B[0mself\u001B[0m\u001B[1;33m.\u001B[0m\u001B[0mdf\u001B[0m\u001B[1;33m.\u001B[0m\u001B[0mloc\u001B[0m\u001B[1;33m[\u001B[0m\u001B[0mi\u001B[0m\u001B[1;33m]\u001B[0m\u001B[1;33m)\u001B[0m\u001B[1;33m\u001B[0m\u001B[1;33m\u001B[0m\u001B[0m\n\u001B[0m\u001B[0;32m     33\u001B[0m \u001B[1;33m\u001B[0m\u001B[0m\n\u001B[0;32m     34\u001B[0m         \u001B[0mdf_results\u001B[0m \u001B[1;33m=\u001B[0m \u001B[0mdf_results\u001B[0m\u001B[1;33m.\u001B[0m\u001B[0mfilter\u001B[0m\u001B[1;33m(\u001B[0m\u001B[1;33m[\u001B[0m\u001B[1;34m'Name'\u001B[0m\u001B[1;33m,\u001B[0m\u001B[1;34m'Nutrient'\u001B[0m\u001B[1;33m,\u001B[0m\u001B[1;34m'Veg_Non'\u001B[0m\u001B[1;33m,\u001B[0m\u001B[1;34m'Price'\u001B[0m\u001B[1;33m,\u001B[0m\u001B[1;34m'Review'\u001B[0m\u001B[1;33m,\u001B[0m\u001B[1;34m'Diet'\u001B[0m\u001B[1;33m,\u001B[0m\u001B[1;34m'Disease'\u001B[0m\u001B[1;33m,\u001B[0m\u001B[1;34m'description'\u001B[0m\u001B[1;33m]\u001B[0m\u001B[1;33m)\u001B[0m\u001B[1;33m\u001B[0m\u001B[1;33m\u001B[0m\u001B[0m\n\u001B[0;32m     35\u001B[0m         \u001B[0mdf_results\u001B[0m \u001B[1;33m=\u001B[0m \u001B[0mdf_results\u001B[0m\u001B[1;33m.\u001B[0m\u001B[0mdrop_duplicates\u001B[0m\u001B[1;33m(\u001B[0m\u001B[0msubset\u001B[0m\u001B[1;33m=\u001B[0m\u001B[1;33m[\u001B[0m\u001B[1;34m'Name'\u001B[0m\u001B[1;33m]\u001B[0m\u001B[1;33m)\u001B[0m\u001B[1;33m\u001B[0m\u001B[1;33m\u001B[0m\u001B[0m\n",
      "\u001B[1;32mC:\\Dev\\Python\\Lib\\site-packages\\pandas\\core\\generic.py\u001B[0m in \u001B[0;36m?\u001B[1;34m(self, name)\u001B[0m\n\u001B[0;32m   5985\u001B[0m             \u001B[1;32mand\u001B[0m \u001B[0mname\u001B[0m \u001B[1;32mnot\u001B[0m \u001B[1;32min\u001B[0m \u001B[0mself\u001B[0m\u001B[1;33m.\u001B[0m\u001B[0m_accessors\u001B[0m\u001B[1;33m\u001B[0m\u001B[1;33m\u001B[0m\u001B[0m\n\u001B[0;32m   5986\u001B[0m             \u001B[1;32mand\u001B[0m \u001B[0mself\u001B[0m\u001B[1;33m.\u001B[0m\u001B[0m_info_axis\u001B[0m\u001B[1;33m.\u001B[0m\u001B[0m_can_hold_identifiers_and_holds_name\u001B[0m\u001B[1;33m(\u001B[0m\u001B[0mname\u001B[0m\u001B[1;33m)\u001B[0m\u001B[1;33m\u001B[0m\u001B[1;33m\u001B[0m\u001B[0m\n\u001B[0;32m   5987\u001B[0m         ):\n\u001B[0;32m   5988\u001B[0m             \u001B[1;32mreturn\u001B[0m \u001B[0mself\u001B[0m\u001B[1;33m[\u001B[0m\u001B[0mname\u001B[0m\u001B[1;33m]\u001B[0m\u001B[1;33m\u001B[0m\u001B[1;33m\u001B[0m\u001B[0m\n\u001B[1;32m-> 5989\u001B[1;33m         \u001B[1;32mreturn\u001B[0m \u001B[0mobject\u001B[0m\u001B[1;33m.\u001B[0m\u001B[0m__getattribute__\u001B[0m\u001B[1;33m(\u001B[0m\u001B[0mself\u001B[0m\u001B[1;33m,\u001B[0m \u001B[0mname\u001B[0m\u001B[1;33m)\u001B[0m\u001B[1;33m\u001B[0m\u001B[1;33m\u001B[0m\u001B[0m\n\u001B[0m",
      "\u001B[1;31mAttributeError\u001B[0m: 'DataFrame' object has no attribute 'append'"
     ]
    }
   ],
   "source": [
    "results = ob.k_neighbor([final_input]) # pass 2d array []\n",
    "results"
   ],
   "metadata": {
    "collapsed": false,
    "ExecuteTime": {
     "end_time": "2024-01-13T11:43:36.839531400Z",
     "start_time": "2024-01-13T11:43:36.800797300Z"
    }
   },
   "id": "b854712159ee1914"
  },
  {
   "cell_type": "code",
   "execution_count": null,
   "outputs": [],
   "source": [
    "my_df_check=pd.read_csv('dataset.csv')\n",
    "my_df_check.head()"
   ],
   "metadata": {
    "collapsed": false
   },
   "id": "7f3359bc9cb3bd34"
  },
  {
   "cell_type": "code",
   "execution_count": null,
   "outputs": [],
   "source": [
    "my_df_check.Diet.unique()"
   ],
   "metadata": {
    "collapsed": false
   },
   "id": "93c76e0e655f17a2"
  },
  {
   "cell_type": "code",
   "execution_count": null,
   "outputs": [],
   "source": [
    "my_df_check.Nutrient.unique()"
   ],
   "metadata": {
    "collapsed": false
   },
   "id": "8b49ea2569490372"
  },
  {
   "cell_type": "code",
   "execution_count": null,
   "outputs": [],
   "source": [
    "my_df_check.Disease.unique()"
   ],
   "metadata": {
    "collapsed": false
   },
   "id": "3c2297a7492d31a4"
  },
  {
   "cell_type": "code",
   "execution_count": null,
   "outputs": [],
   "source": [
    "import pandas as pd \n",
    "import numpy as np\n",
    "import warnings\n",
    "import time\n",
    "import seaborn as sns\n",
    "import matplotlib.pyplot as plt\n",
    "import random\n",
    "import nltk\n",
    "from nltk.corpus import stopwords\n",
    "\n",
    "warnings.filterwarnings('ignore')"
   ],
   "metadata": {
    "collapsed": false
   },
   "id": "630529a49505263a"
  },
  {
   "cell_type": "code",
   "execution_count": null,
   "outputs": [],
   "source": [
    "class Profile:\n",
    "    \n",
    "    df = pd.read_csv('dataset.csv') # static variable\n",
    "    \n",
    "    def __init__(self,diet,disease,Nutrient,food_type,favorite_food):\n",
    "        self.diet = diet\n",
    "        self.disease = disease\n",
    "        self.nutrient = Nutrient\n",
    "        self.type = food_type\n",
    "        self.like = favorite_food\n",
    "        self.df2 = pd.DataFrame(columns=list(Profile.df.columns))\n",
    "        self.df3 = pd.DataFrame(columns=list(Profile.df.columns))\n",
    "        self.df4 = pd.DataFrame(columns=list(Profile.df.columns))\n",
    "        self.df5 = pd.DataFrame(columns=list(Profile.df.columns))\n",
    "        self.df6 = pd.DataFrame(columns=list(Profile.df.columns))\n",
    "        \n",
    "    def removestop(self,tokens):\n",
    "        stop = set(stopwords.words('english'))\n",
    "        file = open('stopwords.txt','r')\n",
    "        l = list(file.read().split())\n",
    "        stop = list(stop) +l\n",
    "        l = [token for token in tokens if token not in stop]\n",
    "        return l\n",
    "            \n",
    "    def inputs(self,diet,disease,Nutrient,food_type,favorite_food):\n",
    "        \n",
    "        if Nutrient:\n",
    "            self.df2 = Profile.df[Profile.df.Nutrient.isin(Nutrient)]\n",
    "            self.df2 = self.df2.reset_index()\n",
    "       \n",
    "        if food_type:\n",
    "            self.df2 = self.df2[self.df2.Veg_Non.isin(food_type)]\n",
    "            self.df2 = self.df2.reset_index()\n",
    "      \n",
    "        if diet:\n",
    "            for i in range(self.df2.shape[0]):\n",
    "                l = str(self.df2.loc[i,'Diet']).split()\n",
    "                \n",
    "                for d in diet:\n",
    "                    if d in l:\n",
    "                        self.df4=self.df4.append(self.df2.loc[i])\n",
    " \n",
    "        if disease:\n",
    "            for i in range(self.df2.shape[0]):\n",
    "                l = str(self.df2.loc[i,'Disease']).split()\n",
    "                for d in disease:\n",
    "                    if d in l:\n",
    "                        self.df5=self.df5.append(self.df2.loc[i])\n",
    "\n",
    "        if favorite_food:\n",
    "            f = self.removestop(favorite_food.split())\n",
    "            for i in range(Profile.df.shape[0]):\n",
    "                n = [j.lower() for j in str(Profile.df.loc[i,'Name']).split()]\n",
    "                for j in n:\n",
    "                    for k in f:\n",
    "                        if k==j:\n",
    "                            self.df6=self.df6.append(Profile.df.loc[i])\n",
    "            for i in range(Profile.df.shape[0]):\n",
    "                n = [j.lower() for j in str(Profile.df.loc[i,'description']).split()]\n",
    "                for j in n:\n",
    "                    for k in f:\n",
    "                        if k==j:\n",
    "                            self.df6=self.df6.append(df.loc[i])\n",
    "            for i in range(Profile.df.shape[0]):\n",
    "                n = [j.lower() for j in str(Profile.df.loc[i,'catagory']).split()]\n",
    "                for j in n:\n",
    "                    for k in f:\n",
    "                        if k==j:\n",
    "                            self.df6=self.df6.append(Profile.df.loc[i])\n",
    "            \n",
    "        return self.df2,self.df3,self.df4,self.df5,self.df6\n",
    "    \n",
    "    def get_profile(self):\n",
    "        df2,df3,df4,df5,df6 = self.inputs(self.diet,self.disease,self.nutrient,self.type,self.like)\n",
    "        \n",
    "        df_merge = pd.concat([df2,df3,df4,df5,df6],axis=0).drop_duplicates(subset='Name')\n",
    "        df_merge = df_merge.filter(['Name','Nutrient','Veg_Non','Price','Review','description'])\n",
    "        print(df_merge.shape)\n",
    "        \n",
    "        return df_merge"
   ],
   "metadata": {
    "collapsed": false
   },
   "id": "1f33873fc3ff26bd"
  },
  {
   "cell_type": "code",
   "execution_count": null,
   "outputs": [],
   "source": [
    "ob = Profile(['low_sodium_diet','low_fat_diet'],['diabetes','rickets'],\n",
    "             ['calcium','vitamin_c'],['non-veg'],'i love chineese')\n",
    "\n",
    "profile = ob.get_profile()\n",
    "profile"
   ],
   "metadata": {
    "collapsed": false
   },
   "id": "828f9896146b6971"
  }
 ],
 "metadata": {
  "kernelspec": {
   "display_name": "Python 3",
   "language": "python",
   "name": "python3"
  },
  "language_info": {
   "codemirror_mode": {
    "name": "ipython",
    "version": 2
   },
   "file_extension": ".py",
   "mimetype": "text/x-python",
   "name": "python",
   "nbconvert_exporter": "python",
   "pygments_lexer": "ipython2",
   "version": "2.7.6"
  }
 },
 "nbformat": 4,
 "nbformat_minor": 5
}
